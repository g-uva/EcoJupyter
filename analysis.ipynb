{
 "cells": [
  {
   "cell_type": "markdown",
   "metadata": {},
   "source": [
    "# Install the requirements"
   ]
  },
  {
   "cell_type": "code",
   "execution_count": 1,
   "metadata": {},
   "outputs": [
    {
     "name": "stdout",
     "output_type": "stream",
     "text": [
      "\u001b[33mWARNING: The directory '/Users/goncaloferreira/Library/Caches/pip' or its parent directory is not owned or is not writable by the current user. The cache has been disabled. Check the permissions and owner of that directory. If executing pip with sudo, you should use sudo's -H flag.\u001b[0m\u001b[33m\n",
      "\u001b[0mCollecting matplotlib==3.8.1 (from -r requirements.txt (line 1))\n",
      "  Downloading matplotlib-3.8.1.tar.gz (35.9 MB)\n",
      "\u001b[2K     \u001b[38;2;249;38;114m━━━━━━━\u001b[0m\u001b[38;2;249;38;114m╸\u001b[0m\u001b[38;5;237m━━━\u001b[0m \u001b[32m25.2/35.9  \u001b[0m \u001b[31m991.4 kB/s\u001b[0m eta \u001b[36m0:00:11\u001b[0m\n",
      "\u001b[2K\u001b[1A\u001b[2K     \u001b[38;2;249;38;114m━━━━━━━\u001b[0m\u001b[38;2;249;38;114m╸\u001b[0m\u001b[38;5;237m━━━\u001b[0m \u001b[32m25.2/35.9  \u001b[0m \u001b[31m991.4 kB/s\u001b[0m eta \u001b[36m0:00:11\u001b[0m\n",
      "\u001b[2K\u001b[1A\u001b[2K     \u001b[38;2;249;38;114m━━━━━━━\u001b[0m\u001b[38;2;249;38;114m╸\u001b[0m\u001b[38;5;237m━━━\u001b[0m \u001b[32m25.2/35.9  \u001b[0m \u001b[31m991.4 kB/s\u001b[0m eta \u001b[36m0:00:11\u001b[0m\n",
      "\u001b[2K\u001b[1A\u001b[2K     \u001b[38;2;249;38;114m━━━━━━━\u001b[0m\u001b[38;2;249;38;114m╸\u001b[0m\u001b[38;5;237m━━━\u001b[0m \u001b[32m25.2/35.9  \u001b[0m \u001b[31m991.4 kB/s\u001b[0m eta \u001b[36m0:00:11\u001b[0m\n",
      "\u001b[2K\u001b[1A\u001b[2K     \u001b[38;2;249;38;114m━━━━━━━\u001b[0m\u001b[38;2;249;38;114m╸\u001b[0m\u001b[38;5;237m━━━\u001b[0m \u001b[32m25.4/35.9  \u001b[0m \u001b[31m970.6 kB/s\u001b[0m eta \u001b[36m0:00:11\u001b[0m\n",
      "\u001b[2K\u001b[1A\u001b[2K     \u001b[38;2;249;38;114m━━━━━━━\u001b[0m\u001b[38;2;249;38;114m╸\u001b[0m\u001b[38;5;237m━━━\u001b[0m \u001b[32m25.4/35.9  \u001b[0m \u001b[31m970.6 kB/s\u001b[0m eta \u001b[36m0:00:11\u001b[0m\n",
      "\u001b[2K\u001b[1A\u001b[2K     \u001b[38;2;249;38;114m━━━━━━━\u001b[0m\u001b[38;2;249;38;114m╸\u001b[0m\u001b[38;5;237m━━━\u001b[0m \u001b[32m25.4/35.9  \u001b[0m \u001b[31m970.6 kB/s\u001b[0m eta \u001b[36m0:00:11\u001b[0m\n",
      "\u001b[2K\u001b[1A\u001b[2K     \u001b[38;2;249;38;114m━━━━━━━\u001b[0m\u001b[38;2;249;38;114m╸\u001b[0m\u001b[38;5;237m━━━\u001b[0m \u001b[32m25.4/35.9  \u001b[0m \u001b[31m970.6 kB/s\u001b[0m eta \u001b[36m0:00:11\u001b[0m\n",
      "\u001b[2K\u001b[1A\u001b[2K     \u001b[38;2;249;38;114m━━━━━━━\u001b[0m\u001b[38;2;249;38;114m╸\u001b[0m\u001b[38;5;237m━━━\u001b[0m \u001b[32m25.7/35.9  \u001b[0m \u001b[31m949.4 kB/s\u001b[0m eta \u001b[36m0:00:11\u001b[0m\n",
      "\u001b[2K\u001b[1A\u001b[2K     \u001b[38;2;249;38;114m━━━━━━━━\u001b[0m\u001b[38;5;237m╺\u001b[0m\u001b[38;5;237m━━\u001b[0m \u001b[32m26.2/35.9  \u001b[0m \u001b[31m958.4 kB/s\u001b[0m eta \u001b[36m0:00:11\u001b[0m\n",
      "\u001b[2K\u001b[1A\u001b[2K     \u001b[38;2;249;38;114m━━━━━━━━\u001b[0m\u001b[38;5;237m╺\u001b[0m\u001b[38;5;237m━━\u001b[0m \u001b[32m26.5/35.9  \u001b[0m \u001b[31m965.0 kB/s\u001b[0m eta \u001b[36m0:00:10\u001b[0m\n",
      "\u001b[2K\u001b[1A\u001b[2K     \u001b[38;2;249;38;114m━━━━━━━━\u001b[0m\u001b[38;5;237m╺\u001b[0m\u001b[38;5;237m━━\u001b[0m \u001b[32m26.7/35.9  \u001b[0m \u001b[31m966.2 kB/s\u001b[0m eta \u001b[36m0:00:10\u001b[0m\n",
      "\u001b[2K\u001b[1A\u001b[2K     \u001b[38;2;249;38;114m━━━━━━━━\u001b[0m\u001b[38;5;237m╺\u001b[0m\u001b[38;5;237m━━\u001b[0m \u001b[32m26.7/35.9  \u001b[0m \u001b[31m966.2 kB/s\u001b[0m eta \u001b[36m0:00:10\u001b[0m\n",
      "\u001b[2K\u001b[1A\u001b[2K     \u001b[38;2;249;38;114m━━━━━━━━\u001b[0m\u001b[38;5;237m╺\u001b[0m\u001b[38;5;237m━━\u001b[0m \u001b[32m27.0/35.9  \u001b[0m \u001b[31m958.5 kB/s\u001b[0m eta \u001b[36m0:00:10\u001b[0m\n",
      "\u001b[2K\u001b[1A\u001b[2K     \u001b[38;2;249;38;114m━━━━━━━━\u001b[0m\u001b[38;5;237m╺\u001b[0m\u001b[38;5;237m━━\u001b[0m \u001b[32m27.5/35.9  \u001b[0m \u001b[31m970.6 kB/s\u001b[0m eta \u001b[36m0:00:09\u001b[0m\n",
      "\u001b[2K\u001b[1A\u001b[2K     \u001b[38;2;249;38;114m━━━━━━━━\u001b[0m\u001b[38;2;249;38;114m╸\u001b[0m\u001b[38;5;237m━━\u001b[0m \u001b[32m28.0/35.9  \u001b[0m \u001b[31m980.1 kB/s\u001b[0m eta \u001b[36m0:00:08\u001b[0m\n",
      "\u001b[2K\u001b[1A\u001b[2K     \u001b[38;2;249;38;114m━━━━━━━━\u001b[0m\u001b[38;2;249;38;114m╸\u001b[0m\u001b[38;5;237m━━\u001b[0m \u001b[32m28.0/35.9  \u001b[0m \u001b[31m980.1 kB/s\u001b[0m eta \u001b[36m0:00:08\u001b[0m\n",
      "\u001b[2K\u001b[1A\u001b[2K     \u001b[38;2;249;38;114m━━━━━━━━\u001b[0m\u001b[38;2;249;38;114m╸\u001b[0m\u001b[38;5;237m━━\u001b[0m \u001b[32m28.3/35.9  \u001b[0m \u001b[31m978.6 kB/s\u001b[0m eta \u001b[36m0:00:08\u001b[0m\n",
      "\u001b[2K\u001b[1A\u001b[2K     \u001b[38;2;249;38;114m━━━━━━━━\u001b[0m\u001b[38;2;249;38;114m╸\u001b[0m\u001b[38;5;237m━━\u001b[0m \u001b[32m28.6/35.9  \u001b[0m \u001b[31m981.2 kB/s\u001b[0m eta \u001b[36m0:00:08\u001b[0m\n",
      "\u001b[2K\u001b[1A\u001b[2K     \u001b[38;2;249;38;114m━━━━━━━━\u001b[0m\u001b[38;2;249;38;114m╸\u001b[0m\u001b[38;5;237m━━\u001b[0m \u001b[32m28.6/35.9  \u001b[0m \u001b[31m981.2 kB/s\u001b[0m eta \u001b[36m0:00:08\u001b[0m\n",
      "\u001b[2K\u001b[1A\u001b[2K     \u001b[38;2;249;38;114m━━━━━━━━\u001b[0m\u001b[38;2;249;38;114m╸\u001b[0m\u001b[38;5;237m━━\u001b[0m \u001b[32m28.6/35.9  \u001b[0m \u001b[31m981.2 kB/s\u001b[0m eta \u001b[36m0:00:08\u001b[0m\n",
      "\u001b[2K\u001b[1A\u001b[2K     \u001b[38;2;249;38;114m━━━━━━━━\u001b[0m\u001b[38;2;249;38;114m╸\u001b[0m\u001b[38;5;237m━━\u001b[0m \u001b[32m28.6/35.9  \u001b[0m \u001b[31m981.2 kB/s\u001b[0m eta \u001b[36m0:00:08\u001b[0m\n",
      "\u001b[2K\u001b[1A\u001b[2K     \u001b[38;2;249;38;114m━━━━━━━━\u001b[0m\u001b[38;2;249;38;114m╸\u001b[0m\u001b[38;5;237m━━\u001b[0m \u001b[32m28.8/35.9  \u001b[0m \u001b[31m962.4 kB/s\u001b[0m eta \u001b[36m0:00:08\u001b[0m\n",
      "\u001b[2K\u001b[1A\u001b[2K     \u001b[38;2;249;38;114m━━━━━━━━\u001b[0m\u001b[38;2;249;38;114m╸\u001b[0m\u001b[38;5;237m━━\u001b[0m \u001b[32m29.1/35.9  \u001b[0m \u001b[31m962.8 kB/s\u001b[0m eta \u001b[36m0:00:08\u001b[0m\n",
      "\u001b[2K\u001b[1A\u001b[2K     \u001b[38;2;249;38;114m━━━━━━━━━\u001b[0m\u001b[38;5;237m╺\u001b[0m\u001b[38;5;237m━\u001b[0m \u001b[32m29.6/35.9  \u001b[0m \u001b[31m953.5 kB/s\u001b[0m eta \u001b[36m0:00:07\u001b[0m\n",
      "\u001b[2K\u001b[1A\u001b[2K     \u001b[38;2;249;38;114m━━━━━━━━━\u001b[0m\u001b[38;5;237m╺\u001b[0m\u001b[38;5;237m━\u001b[0m \u001b[32m29.6/35.9  \u001b[0m \u001b[31m953.5 kB/s\u001b[0m eta \u001b[36m0:00:07\u001b[0m\n",
      "\u001b[2K\u001b[1A\u001b[2K     \u001b[38;2;249;38;114m━━━━━━━━━\u001b[0m\u001b[38;5;237m╺\u001b[0m\u001b[38;5;237m━\u001b[0m \u001b[32m29.6/35.9  \u001b[0m \u001b[31m953.5 kB/s\u001b[0m eta \u001b[36m0:00:07\u001b[0m\n",
      "\u001b[2K\u001b[1A\u001b[2K     \u001b[38;2;249;38;114m━━━━━━━━━\u001b[0m\u001b[38;5;237m╺\u001b[0m\u001b[38;5;237m━\u001b[0m \u001b[32m29.6/35.9  \u001b[0m \u001b[31m953.5 kB/s\u001b[0m eta \u001b[36m0:00:07\u001b[0m\n",
      "\u001b[2K\u001b[1A\u001b[2K     \u001b[38;2;249;38;114m━━━━━━━━━\u001b[0m\u001b[38;5;237m╺\u001b[0m\u001b[38;5;237m━\u001b[0m \u001b[32m29.9/35.9  \u001b[0m \u001b[31m897.7 kB/s\u001b[0m eta \u001b[36m0:00:07\u001b[0m\n",
      "\u001b[2K\u001b[1A\u001b[2K     \u001b[38;2;249;38;114m━━━━━━━━━\u001b[0m\u001b[38;5;237m╺\u001b[0m\u001b[38;5;237m━\u001b[0m \u001b[32m30.1/35.9  \u001b[0m \u001b[31m895.7 kB/s\u001b[0m eta \u001b[36m0:00:07\u001b[0m\n",
      "\u001b[2K\u001b[1A\u001b[2K     \u001b[38;2;249;38;114m━━━━━━━━━\u001b[0m\u001b[38;5;237m╺\u001b[0m\u001b[38;5;237m━\u001b[0m \u001b[32m30.1/35.9  \u001b[0m \u001b[31m895.7 kB/s\u001b[0m eta \u001b[36m0:00:07\u001b[0m\n",
      "\u001b[2K\u001b[1A\u001b[2K     \u001b[38;2;249;38;114m━━━━━━━━━\u001b[0m\u001b[38;5;237m╺\u001b[0m\u001b[38;5;237m━\u001b[0m \u001b[32m30.7/35.9  \u001b[0m \u001b[31m879.7 kB/s\u001b[0m eta \u001b[36m0:00:06\u001b[0m\n",
      "\u001b[2K\u001b[1A\u001b[2K     \u001b[38;2;249;38;114m━━━━━━━━━\u001b[0m\u001b[38;5;237m╺\u001b[0m\u001b[38;5;237m━\u001b[0m \u001b[32m30.7/35.9  \u001b[0m \u001b[31m879.7 kB/s\u001b[0m eta \u001b[36m0:00:06\u001b[0m\n",
      "\u001b[2K\u001b[1A\u001b[2K     \u001b[38;2;249;38;114m━━━━━━━━━\u001b[0m\u001b[38;5;237m╺\u001b[0m\u001b[38;5;237m━\u001b[0m \u001b[32m30.7/35.9  \u001b[0m \u001b[31m879.7 kB/s\u001b[0m eta \u001b[36m0:00:06\u001b[0m\n",
      "\u001b[2K\u001b[1A\u001b[2K     \u001b[38;2;249;38;114m━━━━━━━━━\u001b[0m\u001b[38;5;237m╺\u001b[0m\u001b[38;5;237m━\u001b[0m \u001b[32m30.7/35.9  \u001b[0m \u001b[31m879.7 kB/s\u001b[0m eta \u001b[36m0:00:06\u001b[0m\n",
      "\u001b[2K\u001b[1A\u001b[2K     \u001b[38;2;249;38;114m━━━━━━━━━\u001b[0m\u001b[38;5;237m╺\u001b[0m\u001b[38;5;237m━\u001b[0m \u001b[32m30.7/35.9  \u001b[0m \u001b[31m879.7 kB/s\u001b[0m eta \u001b[36m0:00:06\u001b[0m\n",
      "\u001b[2K\u001b[1A\u001b[2K     \u001b[38;2;249;38;114m━━━━━━━━━\u001b[0m\u001b[38;5;237m╺\u001b[0m\u001b[38;5;237m━\u001b[0m \u001b[32m30.7/35.9  \u001b[0m \u001b[31m879.7 kB/s\u001b[0m eta \u001b[36m0:00:06\u001b[0m\n",
      "\u001b[2K\u001b[1A\u001b[2K     \u001b[38;2;249;38;114m━━━━━━━━━\u001b[0m\u001b[38;5;237m╺\u001b[0m\u001b[38;5;237m━\u001b[0m \u001b[32m30.9/35.9  \u001b[0m \u001b[31m797.4 kB/s\u001b[0m eta \u001b[36m0:00:07\u001b[0m\n",
      "\u001b[2K\u001b[1A\u001b[2K     \u001b[38;2;249;38;114m━━━━━━━━━\u001b[0m\u001b[38;2;249;38;114m╸\u001b[0m\u001b[38;5;237m━\u001b[0m \u001b[32m31.2/35.9  \u001b[0m \u001b[31m787.4 kB/s\u001b[0m eta \u001b[36m0:00:06\u001b[0m\n",
      "\u001b[2K\u001b[1A\u001b[2K     \u001b[38;2;249;38;114m━━━━━━━━━\u001b[0m\u001b[38;2;249;38;114m╸\u001b[0m\u001b[38;5;237m━\u001b[0m \u001b[32m31.5/35.9  \u001b[0m \u001b[31m790.0 kB/s\u001b[0m eta \u001b[36m0:00:06\u001b[0m\n",
      "\u001b[2K\u001b[1A\u001b[2K     \u001b[38;2;249;38;114m━━━━━━━━━\u001b[0m\u001b[38;2;249;38;114m╸\u001b[0m\u001b[38;5;237m━\u001b[0m \u001b[32m31.7/35.9  \u001b[0m \u001b[31m794.0 kB/s\u001b[0m eta \u001b[36m0:00:06\u001b[0m\n",
      "\u001b[2K\u001b[1A\u001b[2K     \u001b[38;2;249;38;114m━━━━━━━━━\u001b[0m\u001b[38;2;249;38;114m╸\u001b[0m\u001b[38;5;237m━\u001b[0m \u001b[32m32.2/35.9  \u001b[0m \u001b[31m798.2 kB/s\u001b[0m eta \u001b[36m0:00:05\u001b[0m\n",
      "\u001b[2K\u001b[1A\u001b[2K     \u001b[38;2;249;38;114m━━━━━━━━━━\u001b[0m\u001b[38;5;237m╺\u001b[0m \u001b[32m32.8/35.9  \u001b[0m \u001b[31m798.4 kB/s\u001b[0m eta \u001b[36m0:00:04\u001b[0m\n",
      "\u001b[2K\u001b[1A\u001b[2K     \u001b[38;2;249;38;114m━━━━━━━━━━\u001b[0m\u001b[38;5;237m╺\u001b[0m \u001b[32m32.8/35.9  \u001b[0m \u001b[31m798.4 kB/s\u001b[0m eta \u001b[36m0:00:04\u001b[0m\n",
      "\u001b[2K\u001b[1A\u001b[2K     \u001b[38;2;249;38;114m━━━━━━━━━━\u001b[0m\u001b[38;5;237m╺\u001b[0m \u001b[32m32.8/35.9  \u001b[0m \u001b[31m798.4 kB/s\u001b[0m eta \u001b[36m0:00:04\u001b[0m\n",
      "\u001b[2K\u001b[1A\u001b[2K     \u001b[38;2;249;38;114m━━━━━━━━━━\u001b[0m\u001b[38;5;237m╺\u001b[0m \u001b[32m32.8/35.9  \u001b[0m \u001b[31m798.4 kB/s\u001b[0m eta \u001b[36m0:00:04\u001b[0m\n",
      "\u001b[2K\u001b[1A\u001b[2K     \u001b[38;2;249;38;114m━━━━━━━━━━\u001b[0m\u001b[38;5;237m╺\u001b[0m \u001b[32m32.8/35.9  \u001b[0m \u001b[31m798.4 kB/s\u001b[0m eta \u001b[36m0:00:04\u001b[0m\n",
      "\u001b[2K\u001b[1A\u001b[2K     \u001b[38;2;249;38;114m━━━━━━━━━━\u001b[0m\u001b[38;5;237m╺\u001b[0m \u001b[32m32.8/35.9  \u001b[0m \u001b[31m798.4 kB/s\u001b[0m eta \u001b[36m0:00:04\u001b[0m\n",
      "\u001b[2K\u001b[1A\u001b[2K     \u001b[38;2;249;38;114m━━━━━━━━━━\u001b[0m\u001b[38;5;237m╺\u001b[0m \u001b[32m32.8/35.9  \u001b[0m \u001b[31m798.4 kB/s\u001b[0m eta \u001b[36m0:00:04\u001b[0m\n",
      "\u001b[2K\u001b[1A\u001b[2K     \u001b[38;2;249;38;114m━━━━━━━━━━\u001b[0m\u001b[38;5;237m╺\u001b[0m \u001b[32m32.8/35.9  \u001b[0m \u001b[31m798.4 kB/s\u001b[0m eta \u001b[36m0:00:04\u001b[0m\n",
      "\u001b[2K\u001b[1A\u001b[2K     \u001b[38;2;249;38;114m━━━━━━━━━━\u001b[0m\u001b[38;5;237m╺\u001b[0m \u001b[32m33.0/35.9  \u001b[0m \u001b[31m702.3 kB/s\u001b[0m eta \u001b[36m0:00:05\u001b[0m\n",
      "\u001b[2K\u001b[1A\u001b[2K     \u001b[38;2;249;38;114m━━━━━━━━━━\u001b[0m\u001b[38;5;237m╺\u001b[0m \u001b[32m33.6/35.9  \u001b[0m \u001b[31m693.7 kB/s\u001b[0m eta \u001b[36m0:00:04\u001b[0m\n",
      "\u001b[2K\u001b[1A\u001b[2K     \u001b[38;2;249;38;114m━━━━━━━━━━\u001b[0m\u001b[38;5;237m╺\u001b[0m \u001b[32m33.6/35.9  \u001b[0m \u001b[31m693.7 kB/s\u001b[0m eta \u001b[36m0:00:04\u001b[0m\n",
      "\u001b[2K\u001b[1A\u001b[2K     \u001b[38;2;249;38;114m━━━━━━━━━━\u001b[0m\u001b[38;5;237m╺\u001b[0m \u001b[32m33.6/35.9  \u001b[0m \u001b[31m693.7 kB/s\u001b[0m eta \u001b[36m0:00:04\u001b[0m\n",
      "\u001b[2K\u001b[1A\u001b[2K     \u001b[38;2;249;38;114m━━━━━━━━━━\u001b[0m\u001b[38;5;237m╺\u001b[0m \u001b[32m33.6/35.9  \u001b[0m \u001b[31m693.7 kB/s\u001b[0m eta \u001b[36m0:00:04\u001b[0m\n",
      "\u001b[2K\u001b[1A\u001b[2K     \u001b[38;2;249;38;114m━━━━━━━━━━\u001b[0m\u001b[38;5;237m╺\u001b[0m \u001b[32m33.8/35.9  \u001b[0m \u001b[31m674.5 kB/s\u001b[0m eta \u001b[36m0:00:04\u001b[0m\n",
      "\u001b[2K\u001b[1A\u001b[2K     \u001b[38;2;249;38;114m━━━━━━━━━━\u001b[0m\u001b[38;5;237m╺\u001b[0m \u001b[32m33.8/35.9  \u001b[0m \u001b[31m674.5 kB/s\u001b[0m eta \u001b[36m0:00:04\u001b[0m\n",
      "\u001b[2K\u001b[1A\u001b[2K     \u001b[38;2;249;38;114m━━━━━━━━━━\u001b[0m\u001b[38;5;237m╺\u001b[0m \u001b[32m33.8/35.9  \u001b[0m \u001b[31m674.5 kB/s\u001b[0m eta \u001b[36m0:00:04\u001b[0m\n",
      "\u001b[2K\u001b[1A\u001b[2K     \u001b[38;2;249;38;114m━━━━━━━━━━\u001b[0m\u001b[38;5;237m╺\u001b[0m \u001b[32m33.8/35.9  \u001b[0m \u001b[31m674.5 kB/s\u001b[0m eta \u001b[36m0:00:04\u001b[0m\n",
      "\u001b[2K\u001b[1A\u001b[2K     \u001b[38;2;249;38;114m━━━━━━━━━━\u001b[0m\u001b[38;5;237m╺\u001b[0m \u001b[32m34.1/35.9  \u001b[0m \u001b[31m641.7 kB/s\u001b[0m eta \u001b[36m0:00:03\u001b[0m\n",
      "\u001b[2K\u001b[1A\u001b[2K     \u001b[38;2;249;38;114m━━━━━━━━━━\u001b[0m\u001b[38;5;237m╺\u001b[0m \u001b[32m34.1/35.9  \u001b[0m \u001b[31m641.7 kB/s\u001b[0m eta \u001b[36m0:00:03\u001b[0m\n",
      "\u001b[2K\u001b[1A\u001b[2K     \u001b[38;2;249;38;114m━━━━━━━━━━\u001b[0m\u001b[38;5;237m╺\u001b[0m \u001b[32m34.1/35.9  \u001b[0m \u001b[31m641.7 kB/s\u001b[0m eta \u001b[36m0:00:03\u001b[0m\n",
      "\u001b[2K\u001b[1A\u001b[2K     \u001b[38;2;249;38;114m━━━━━━━━━━\u001b[0m\u001b[38;5;237m╺\u001b[0m \u001b[32m34.1/35.9  \u001b[0m \u001b[31m641.7 kB/s\u001b[0m eta \u001b[36m0:00:03\u001b[0m\n",
      "\u001b[2K\u001b[1A\u001b[2K     \u001b[38;2;249;38;114m━━━━━━━━━━\u001b[0m\u001b[38;2;249;38;114m╸\u001b[0m \u001b[32m34.3/35.9  \u001b[0m \u001b[31m612.8 kB/s\u001b[0m eta \u001b[36m0:00:03\u001b[0m\n",
      "\u001b[2K\u001b[1A\u001b[2K     \u001b[38;2;249;38;114m━━━━━━━━━━\u001b[0m\u001b[38;2;249;38;114m╸\u001b[0m \u001b[32m34.3/35.9  \u001b[0m \u001b[31m612.8 kB/s\u001b[0m eta \u001b[36m0:00:03\u001b[0m\n",
      "\u001b[2K\u001b[1A\u001b[2K     \u001b[38;2;249;38;114m━━━━━━━━━━\u001b[0m\u001b[38;2;249;38;114m╸\u001b[0m \u001b[32m34.9/35.9  \u001b[0m \u001b[31m622.3 kB/s\u001b[0m eta \u001b[36m0:00:02\u001b[0m\n",
      "\u001b[2K\u001b[1A\u001b[2K     \u001b[38;2;249;38;114m━━━━━━━━━━\u001b[0m\u001b[38;2;249;38;114m╸\u001b[0m \u001b[32m35.1/35.9  \u001b[0m \u001b[31m626.5 kB/s\u001b[0m eta \u001b[36m0:00:02\u001b[0m\n",
      "\u001b[2K\u001b[1A\u001b[2K     \u001b[38;2;249;38;114m━━━━━━━━━━\u001b[0m\u001b[38;2;249;38;114m╸\u001b[0m \u001b[32m35.4/35.9  \u001b[0m \u001b[31m630.2 kB/s\u001b[0m eta \u001b[36m0:00:01\u001b[0m\n",
      "\u001b[2K\u001b[1A\u001b[2K     \u001b[38;2;249;38;114m━━━━━━━━━━\u001b[0m\u001b[38;2;249;38;114m╸\u001b[0m \u001b[32m35.7/35.9  \u001b[0m \u001b[31m648.3 kB/s\u001b[0m eta \u001b[36m0:00:01\u001b[0m\n",
      "\u001b[2K\u001b[1A\u001b[2K     \u001b[38;2;249;38;114m━━━━━━━━━━\u001b[0m\u001b[38;2;249;38;114m╸\u001b[0m \u001b[32m35.7/35.9  \u001b[0m \u001b[31m648.3 kB/s\u001b[0m eta \u001b[36m0:00:01\u001b[0m\n",
      "\u001b[2K\u001b[1A\u001b[2K     \u001b[38;2;114;156;31m━━━━━━━━━━━\u001b[0m \u001b[32m35.9/35.9  \u001b[0m \u001b[31m649.9 kB/s\u001b[0m eta \u001b[36m0:00:00\u001b[0m\n",
      "                 \u001b[32mMB         \u001b[0m                       \n",
      "\u001b[?25h  Installing build dependencies ... \u001b[?25ldone\n",
      "\u001b[?25h  Getting requirements to build wheel ... \u001b[?25ldone\n",
      "\u001b[?25h  Preparing metadata (pyproject.toml) ... \u001b[?25ldone\n",
      "\u001b[?25hCollecting matplotlib-inline==0.1.6 (from -r requirements.txt (line 2))\n",
      "  Downloading matplotlib_inline-0.1.6-py3-none-any.whl.metadata (2.8 kB)\n",
      "\u001b[31mERROR: Could not find a version that satisfies the requirement numpy==1.26.1 (from versions: 1.3.0, 1.4.1, 1.5.0, 1.5.1, 1.6.0, 1.6.1, 1.6.2, 1.7.0, 1.7.1, 1.7.2, 1.8.0, 1.8.1, 1.8.2, 1.9.0, 1.9.1, 1.9.2, 1.9.3, 1.10.0.post2, 1.10.1, 1.10.2, 1.10.4, 1.11.0, 1.11.1, 1.11.2, 1.11.3, 1.12.0, 1.12.1, 1.13.0, 1.13.1, 1.13.3, 1.14.0, 1.14.1, 1.14.2, 1.14.3, 1.14.4, 1.14.5, 1.14.6, 1.15.0, 1.15.1, 1.15.2, 1.15.3, 1.15.4, 1.16.0, 1.16.1, 1.16.2, 1.16.3, 1.16.4, 1.16.5, 1.16.6, 1.17.0, 1.17.1, 1.17.2, 1.17.3, 1.17.4, 1.17.5, 1.18.0, 1.18.1, 1.18.2, 1.18.3, 1.18.4, 1.18.5, 1.19.0, 1.19.1, 1.19.2, 1.19.3, 1.19.4, 1.19.5, 1.20.0, 1.20.1, 1.20.2, 1.20.3, 1.21.0, 1.21.1, 1.22.0, 1.22.1, 1.22.2, 1.22.3, 1.22.4, 1.23.0, 1.23.1, 1.23.2, 1.23.3, 1.23.4, 1.23.5, 1.24.0, 1.24.1, 1.24.2, 1.24.3, 1.24.4, 1.25.0, 1.25.1, 1.25.2, 1.26.2, 1.26.3, 1.26.4, 2.0.0, 2.0.1, 2.0.2, 2.1.0rc1, 2.1.0, 2.1.1, 2.1.2, 2.1.3, 2.2.0rc1, 2.2.0, 2.2.1, 2.2.2, 2.2.3, 2.2.4)\u001b[0m\u001b[31m\n",
      "\u001b[0m\u001b[31mERROR: No matching distribution found for numpy==1.26.1\u001b[0m\u001b[31m\n",
      "\u001b[0m"
     ]
    }
   ],
   "source": [
    "!pip install -r requirements.txt"
   ]
  },
  {
   "cell_type": "code",
   "execution_count": 17,
   "metadata": {},
   "outputs": [
    {
     "name": "stdout",
     "output_type": "stream",
     "text": [
      "\u001b[33mWARNING: The directory '/Users/goncaloferreira/Library/Caches/pip' or its parent directory is not owned or is not writable by the current user. The cache has been disabled. Check the permissions and owner of that directory. If executing pip with sudo, you should use sudo's -H flag.\u001b[0m\u001b[33m\n",
      "\u001b[0mRequirement already satisfied: matplotlib in /opt/anaconda3/envs/egi-jupyterlab-ext/lib/python3.13/site-packages (3.10.1)\n",
      "Requirement already satisfied: contourpy>=1.0.1 in /opt/anaconda3/envs/egi-jupyterlab-ext/lib/python3.13/site-packages (from matplotlib) (1.3.1)\n",
      "Requirement already satisfied: cycler>=0.10 in /opt/anaconda3/envs/egi-jupyterlab-ext/lib/python3.13/site-packages (from matplotlib) (0.12.1)\n",
      "Requirement already satisfied: fonttools>=4.22.0 in /opt/anaconda3/envs/egi-jupyterlab-ext/lib/python3.13/site-packages (from matplotlib) (4.56.0)\n",
      "Requirement already satisfied: kiwisolver>=1.3.1 in /opt/anaconda3/envs/egi-jupyterlab-ext/lib/python3.13/site-packages (from matplotlib) (1.4.8)\n",
      "Requirement already satisfied: numpy>=1.23 in /opt/anaconda3/envs/egi-jupyterlab-ext/lib/python3.13/site-packages (from matplotlib) (2.2.4)\n",
      "Requirement already satisfied: packaging>=20.0 in /opt/anaconda3/envs/egi-jupyterlab-ext/lib/python3.13/site-packages (from matplotlib) (24.2)\n",
      "Requirement already satisfied: pillow>=8 in /opt/anaconda3/envs/egi-jupyterlab-ext/lib/python3.13/site-packages (from matplotlib) (11.1.0)\n",
      "Requirement already satisfied: pyparsing>=2.3.1 in /opt/anaconda3/envs/egi-jupyterlab-ext/lib/python3.13/site-packages (from matplotlib) (3.2.3)\n",
      "Requirement already satisfied: python-dateutil>=2.7 in /opt/anaconda3/envs/egi-jupyterlab-ext/lib/python3.13/site-packages (from matplotlib) (2.9.0.post0)\n",
      "Requirement already satisfied: six>=1.5 in /opt/anaconda3/envs/egi-jupyterlab-ext/lib/python3.13/site-packages (from python-dateutil>=2.7->matplotlib) (1.17.0)\n",
      "\u001b[33mWARNING: Running pip as the 'root' user can result in broken permissions and conflicting behaviour with the system package manager, possibly rendering your system unusable. It is recommended to use a virtual environment instead: https://pip.pypa.io/warnings/venv. Use the --root-user-action option if you know what you are doing and want to suppress this warning.\u001b[0m\u001b[33m\n",
      "\u001b[0m\u001b[33mWARNING: The directory '/Users/goncaloferreira/Library/Caches/pip' or its parent directory is not owned or is not writable by the current user. The cache has been disabled. Check the permissions and owner of that directory. If executing pip with sudo, you should use sudo's -H flag.\u001b[0m\u001b[33m\n",
      "\u001b[0mRequirement already satisfied: seaborn in /opt/anaconda3/envs/egi-jupyterlab-ext/lib/python3.13/site-packages (0.13.2)\n",
      "Requirement already satisfied: numpy!=1.24.0,>=1.20 in /opt/anaconda3/envs/egi-jupyterlab-ext/lib/python3.13/site-packages (from seaborn) (2.2.4)\n",
      "Requirement already satisfied: pandas>=1.2 in /opt/anaconda3/envs/egi-jupyterlab-ext/lib/python3.13/site-packages (from seaborn) (2.2.3)\n",
      "Requirement already satisfied: matplotlib!=3.6.1,>=3.4 in /opt/anaconda3/envs/egi-jupyterlab-ext/lib/python3.13/site-packages (from seaborn) (3.10.1)\n",
      "Requirement already satisfied: contourpy>=1.0.1 in /opt/anaconda3/envs/egi-jupyterlab-ext/lib/python3.13/site-packages (from matplotlib!=3.6.1,>=3.4->seaborn) (1.3.1)\n",
      "Requirement already satisfied: cycler>=0.10 in /opt/anaconda3/envs/egi-jupyterlab-ext/lib/python3.13/site-packages (from matplotlib!=3.6.1,>=3.4->seaborn) (0.12.1)\n",
      "Requirement already satisfied: fonttools>=4.22.0 in /opt/anaconda3/envs/egi-jupyterlab-ext/lib/python3.13/site-packages (from matplotlib!=3.6.1,>=3.4->seaborn) (4.56.0)\n",
      "Requirement already satisfied: kiwisolver>=1.3.1 in /opt/anaconda3/envs/egi-jupyterlab-ext/lib/python3.13/site-packages (from matplotlib!=3.6.1,>=3.4->seaborn) (1.4.8)\n",
      "Requirement already satisfied: packaging>=20.0 in /opt/anaconda3/envs/egi-jupyterlab-ext/lib/python3.13/site-packages (from matplotlib!=3.6.1,>=3.4->seaborn) (24.2)\n",
      "Requirement already satisfied: pillow>=8 in /opt/anaconda3/envs/egi-jupyterlab-ext/lib/python3.13/site-packages (from matplotlib!=3.6.1,>=3.4->seaborn) (11.1.0)\n",
      "Requirement already satisfied: pyparsing>=2.3.1 in /opt/anaconda3/envs/egi-jupyterlab-ext/lib/python3.13/site-packages (from matplotlib!=3.6.1,>=3.4->seaborn) (3.2.3)\n",
      "Requirement already satisfied: python-dateutil>=2.7 in /opt/anaconda3/envs/egi-jupyterlab-ext/lib/python3.13/site-packages (from matplotlib!=3.6.1,>=3.4->seaborn) (2.9.0.post0)\n",
      "Requirement already satisfied: pytz>=2020.1 in /opt/anaconda3/envs/egi-jupyterlab-ext/lib/python3.13/site-packages (from pandas>=1.2->seaborn) (2025.1)\n",
      "Requirement already satisfied: tzdata>=2022.7 in /opt/anaconda3/envs/egi-jupyterlab-ext/lib/python3.13/site-packages (from pandas>=1.2->seaborn) (2025.2)\n",
      "Requirement already satisfied: six>=1.5 in /opt/anaconda3/envs/egi-jupyterlab-ext/lib/python3.13/site-packages (from python-dateutil>=2.7->matplotlib!=3.6.1,>=3.4->seaborn) (1.17.0)\n",
      "\u001b[33mWARNING: Running pip as the 'root' user can result in broken permissions and conflicting behaviour with the system package manager, possibly rendering your system unusable. It is recommended to use a virtual environment instead: https://pip.pypa.io/warnings/venv. Use the --root-user-action option if you know what you are doing and want to suppress this warning.\u001b[0m\u001b[33m\n",
      "\u001b[0m\u001b[33mWARNING: The directory '/Users/goncaloferreira/Library/Caches/pip' or its parent directory is not owned or is not writable by the current user. The cache has been disabled. Check the permissions and owner of that directory. If executing pip with sudo, you should use sudo's -H flag.\u001b[0m\u001b[33m\n",
      "\u001b[0mRequirement already satisfied: scipy in /opt/anaconda3/envs/egi-jupyterlab-ext/lib/python3.13/site-packages (1.15.2)\n",
      "Requirement already satisfied: numpy<2.5,>=1.23.5 in /opt/anaconda3/envs/egi-jupyterlab-ext/lib/python3.13/site-packages (from scipy) (2.2.4)\n",
      "\u001b[33mWARNING: Running pip as the 'root' user can result in broken permissions and conflicting behaviour with the system package manager, possibly rendering your system unusable. It is recommended to use a virtual environment instead: https://pip.pypa.io/warnings/venv. Use the --root-user-action option if you know what you are doing and want to suppress this warning.\u001b[0m\u001b[33m\n",
      "\u001b[0m\u001b[33mWARNING: The directory '/Users/goncaloferreira/Library/Caches/pip' or its parent directory is not owned or is not writable by the current user. The cache has been disabled. Check the permissions and owner of that directory. If executing pip with sudo, you should use sudo's -H flag.\u001b[0m\u001b[33m\n",
      "\u001b[0mRequirement already satisfied: numpy in /opt/anaconda3/envs/egi-jupyterlab-ext/lib/python3.13/site-packages (2.2.4)\n",
      "\u001b[33mWARNING: Running pip as the 'root' user can result in broken permissions and conflicting behaviour with the system package manager, possibly rendering your system unusable. It is recommended to use a virtual environment instead: https://pip.pypa.io/warnings/venv. Use the --root-user-action option if you know what you are doing and want to suppress this warning.\u001b[0m\u001b[33m\n",
      "\u001b[0m"
     ]
    }
   ],
   "source": [
    "!pip install matplotlib\n",
    "!pip install seaborn\n",
    "!pip install scipy\n",
    "!pip install numpy"
   ]
  },
  {
   "cell_type": "markdown",
   "metadata": {},
   "source": [
    "# Import libraries"
   ]
  },
  {
   "cell_type": "code",
   "execution_count": 18,
   "metadata": {},
   "outputs": [],
   "source": [
    "import matplotlib.pyplot as plt\n",
    "import seaborn as sns\n",
    "import pandas as pd\n",
    "import numpy as np \n",
    "import scipy\n",
    "import os\n",
    "import glob\n",
    "import matplotlib"
   ]
  },
  {
   "cell_type": "markdown",
   "metadata": {},
   "source": [
    "## File path and dataset load"
   ]
  },
  {
   "cell_type": "code",
   "execution_count": 19,
   "metadata": {},
   "outputs": [],
   "source": [
    "path_dir='./data/datasets/combined/'\n",
    "file_d1 = path_dir + 'dataset1_combined.csv'\n",
    "file_d2 = path_dir + 'dataset2_combined.csv'"
   ]
  },
  {
   "cell_type": "code",
   "execution_count": 20,
   "metadata": {},
   "outputs": [],
   "source": [
    "d1=pd.read_csv(file_d1)\n",
    "d2=pd.read_csv(file_d2)"
   ]
  },
  {
   "cell_type": "code",
   "execution_count": 21,
   "metadata": {},
   "outputs": [
    {
     "data": {
      "text/html": [
       "<div>\n",
       "<style scoped>\n",
       "    .dataframe tbody tr th:only-of-type {\n",
       "        vertical-align: middle;\n",
       "    }\n",
       "\n",
       "    .dataframe tbody tr th {\n",
       "        vertical-align: top;\n",
       "    }\n",
       "\n",
       "    .dataframe thead th {\n",
       "        text-align: right;\n",
       "    }\n",
       "</style>\n",
       "<table border=\"1\" class=\"dataframe\">\n",
       "  <thead>\n",
       "    <tr style=\"text-align: right;\">\n",
       "      <th></th>\n",
       "      <th>CPU_Load</th>\n",
       "      <th>CPU1_Temperature</th>\n",
       "      <th>CPU2_Temperature</th>\n",
       "      <th>Ram</th>\n",
       "      <th>Ram_Used</th>\n",
       "      <th>CPU_cores</th>\n",
       "      <th>CPU_cores_used</th>\n",
       "      <th>Power</th>\n",
       "      <th>Network_RX</th>\n",
       "      <th>Network_TX</th>\n",
       "      <th>No_Of_Running_vms</th>\n",
       "    </tr>\n",
       "  </thead>\n",
       "  <tbody>\n",
       "    <tr>\n",
       "      <th>count</th>\n",
       "      <td>1.186307e+06</td>\n",
       "      <td>1.103361e+06</td>\n",
       "      <td>1.103537e+06</td>\n",
       "      <td>1.078447e+06</td>\n",
       "      <td>1.078443e+06</td>\n",
       "      <td>1.078448e+06</td>\n",
       "      <td>1.078060e+06</td>\n",
       "      <td>1.103780e+06</td>\n",
       "      <td>1.180671e+06</td>\n",
       "      <td>1.180693e+06</td>\n",
       "      <td>1.078445e+06</td>\n",
       "    </tr>\n",
       "    <tr>\n",
       "      <th>mean</th>\n",
       "      <td>2.229506e+01</td>\n",
       "      <td>5.952234e+01</td>\n",
       "      <td>5.976250e+01</td>\n",
       "      <td>1.953336e+02</td>\n",
       "      <td>4.677063e+01</td>\n",
       "      <td>1.727497e+02</td>\n",
       "      <td>3.981027e+01</td>\n",
       "      <td>5.464416e+02</td>\n",
       "      <td>2.559859e+07</td>\n",
       "      <td>1.455133e+07</td>\n",
       "      <td>9.014411e+00</td>\n",
       "    </tr>\n",
       "    <tr>\n",
       "      <th>std</th>\n",
       "      <td>1.851094e+01</td>\n",
       "      <td>1.160717e+01</td>\n",
       "      <td>1.285247e+01</td>\n",
       "      <td>1.119841e+01</td>\n",
       "      <td>3.540201e+01</td>\n",
       "      <td>4.916982e+01</td>\n",
       "      <td>4.056673e+01</td>\n",
       "      <td>1.220703e+02</td>\n",
       "      <td>2.094490e+08</td>\n",
       "      <td>1.941973e+08</td>\n",
       "      <td>3.291348e+01</td>\n",
       "    </tr>\n",
       "    <tr>\n",
       "      <th>min</th>\n",
       "      <td>1.500000e-03</td>\n",
       "      <td>2.666667e+01</td>\n",
       "      <td>2.558333e+01</td>\n",
       "      <td>1.933325e+02</td>\n",
       "      <td>1.443125e+00</td>\n",
       "      <td>4.800000e+01</td>\n",
       "      <td>0.000000e+00</td>\n",
       "      <td>2.600000e+02</td>\n",
       "      <td>0.000000e+00</td>\n",
       "      <td>0.000000e+00</td>\n",
       "      <td>0.000000e+00</td>\n",
       "    </tr>\n",
       "    <tr>\n",
       "      <th>25%</th>\n",
       "      <td>1.186333e+00</td>\n",
       "      <td>5.026667e+01</td>\n",
       "      <td>4.761667e+01</td>\n",
       "      <td>1.933325e+02</td>\n",
       "      <td>3.910750e+00</td>\n",
       "      <td>1.600000e+02</td>\n",
       "      <td>0.000000e+00</td>\n",
       "      <td>4.160000e+02</td>\n",
       "      <td>2.144243e+04</td>\n",
       "      <td>6.359830e+03</td>\n",
       "      <td>0.000000e+00</td>\n",
       "    </tr>\n",
       "    <tr>\n",
       "      <th>50%</th>\n",
       "      <td>2.332683e+01</td>\n",
       "      <td>6.231667e+01</td>\n",
       "      <td>6.256667e+01</td>\n",
       "      <td>1.933325e+02</td>\n",
       "      <td>5.920675e+01</td>\n",
       "      <td>1.600000e+02</td>\n",
       "      <td>4.800000e+01</td>\n",
       "      <td>5.763333e+02</td>\n",
       "      <td>5.684392e+04</td>\n",
       "      <td>8.519458e+04</td>\n",
       "      <td>4.000000e+00</td>\n",
       "    </tr>\n",
       "    <tr>\n",
       "      <th>75%</th>\n",
       "      <td>3.815075e+01</td>\n",
       "      <td>6.950000e+01</td>\n",
       "      <td>7.120000e+01</td>\n",
       "      <td>1.933325e+02</td>\n",
       "      <td>5.920675e+01</td>\n",
       "      <td>1.600000e+02</td>\n",
       "      <td>4.800000e+01</td>\n",
       "      <td>6.508667e+02</td>\n",
       "      <td>9.220792e+05</td>\n",
       "      <td>2.013792e+06</td>\n",
       "      <td>4.000000e+00</td>\n",
       "    </tr>\n",
       "    <tr>\n",
       "      <th>max</th>\n",
       "      <td>8.631317e+01</td>\n",
       "      <td>7.923333e+01</td>\n",
       "      <td>8.140000e+01</td>\n",
       "      <td>2.580025e+02</td>\n",
       "      <td>1.914112e+02</td>\n",
       "      <td>3.200000e+02</td>\n",
       "      <td>3.200000e+02</td>\n",
       "      <td>8.060000e+02</td>\n",
       "      <td>5.263384e+09</td>\n",
       "      <td>5.997358e+09</td>\n",
       "      <td>2.610000e+02</td>\n",
       "    </tr>\n",
       "  </tbody>\n",
       "</table>\n",
       "</div>"
      ],
      "text/plain": [
       "           CPU_Load  CPU1_Temperature  CPU2_Temperature           Ram  \\\n",
       "count  1.186307e+06      1.103361e+06      1.103537e+06  1.078447e+06   \n",
       "mean   2.229506e+01      5.952234e+01      5.976250e+01  1.953336e+02   \n",
       "std    1.851094e+01      1.160717e+01      1.285247e+01  1.119841e+01   \n",
       "min    1.500000e-03      2.666667e+01      2.558333e+01  1.933325e+02   \n",
       "25%    1.186333e+00      5.026667e+01      4.761667e+01  1.933325e+02   \n",
       "50%    2.332683e+01      6.231667e+01      6.256667e+01  1.933325e+02   \n",
       "75%    3.815075e+01      6.950000e+01      7.120000e+01  1.933325e+02   \n",
       "max    8.631317e+01      7.923333e+01      8.140000e+01  2.580025e+02   \n",
       "\n",
       "           Ram_Used     CPU_cores  CPU_cores_used         Power    Network_RX  \\\n",
       "count  1.078443e+06  1.078448e+06    1.078060e+06  1.103780e+06  1.180671e+06   \n",
       "mean   4.677063e+01  1.727497e+02    3.981027e+01  5.464416e+02  2.559859e+07   \n",
       "std    3.540201e+01  4.916982e+01    4.056673e+01  1.220703e+02  2.094490e+08   \n",
       "min    1.443125e+00  4.800000e+01    0.000000e+00  2.600000e+02  0.000000e+00   \n",
       "25%    3.910750e+00  1.600000e+02    0.000000e+00  4.160000e+02  2.144243e+04   \n",
       "50%    5.920675e+01  1.600000e+02    4.800000e+01  5.763333e+02  5.684392e+04   \n",
       "75%    5.920675e+01  1.600000e+02    4.800000e+01  6.508667e+02  9.220792e+05   \n",
       "max    1.914112e+02  3.200000e+02    3.200000e+02  8.060000e+02  5.263384e+09   \n",
       "\n",
       "         Network_TX  No_Of_Running_vms  \n",
       "count  1.180693e+06       1.078445e+06  \n",
       "mean   1.455133e+07       9.014411e+00  \n",
       "std    1.941973e+08       3.291348e+01  \n",
       "min    0.000000e+00       0.000000e+00  \n",
       "25%    6.359830e+03       0.000000e+00  \n",
       "50%    8.519458e+04       4.000000e+00  \n",
       "75%    2.013792e+06       4.000000e+00  \n",
       "max    5.997358e+09       2.610000e+02  "
      ]
     },
     "execution_count": 21,
     "metadata": {},
     "output_type": "execute_result"
    }
   ],
   "source": [
    "d1.describe()\n",
    "d2.describe()"
   ]
  },
  {
   "cell_type": "markdown",
   "metadata": {},
   "source": [
    "## Probablity Distribution Function (PDF)"
   ]
  },
  {
   "cell_type": "markdown",
   "metadata": {},
   "source": [
    "### CPU"
   ]
  },
  {
   "cell_type": "code",
   "execution_count": 22,
   "metadata": {},
   "outputs": [],
   "source": [
    "matplotlib.style.use('default')  # for white bg figs in VS code"
   ]
  },
  {
   "cell_type": "code",
   "execution_count": 23,
   "metadata": {},
   "outputs": [
    {
     "name": "stderr",
     "output_type": "stream",
     "text": [
      "/tmp/ipykernel_88977/891947949.py:2: UserWarning: \n",
      "\n",
      "`distplot` is a deprecated function and will be removed in seaborn v0.14.0.\n",
      "\n",
      "Please adapt your code to use either `displot` (a figure-level function with\n",
      "similar flexibility) or `histplot` (an axes-level function for histograms).\n",
      "\n",
      "For a guide to updating your code to use the new functions, please see\n",
      "https://gist.github.com/mwaskom/de44147ed2974457ad6372750bbe5751\n",
      "\n",
      "  sns.distplot(d1.CPU_Load)\n",
      "/tmp/ipykernel_88977/891947949.py:3: UserWarning: \n",
      "\n",
      "`distplot` is a deprecated function and will be removed in seaborn v0.14.0.\n",
      "\n",
      "Please adapt your code to use either `displot` (a figure-level function with\n",
      "similar flexibility) or `histplot` (an axes-level function for histograms).\n",
      "\n",
      "For a guide to updating your code to use the new functions, please see\n",
      "https://gist.github.com/mwaskom/de44147ed2974457ad6372750bbe5751\n",
      "\n",
      "  sns.distplot(d2.CPU_Load)\n"
     ]
    },
    {
     "ename": "FileNotFoundError",
     "evalue": "[Errno 2] No such file or directory: './plots/d1_d2/pdf/cpu_load_pdf.pdf'",
     "output_type": "error",
     "traceback": [
      "\u001b[31m---------------------------------------------------------------------------\u001b[39m",
      "\u001b[31mFileNotFoundError\u001b[39m                         Traceback (most recent call last)",
      "\u001b[36mCell\u001b[39m\u001b[36m \u001b[39m\u001b[32mIn[23]\u001b[39m\u001b[32m, line 12\u001b[39m\n\u001b[32m      9\u001b[39m plt.legend(labels = [\u001b[33m'\u001b[39m\u001b[33mD1\u001b[39m\u001b[33m'\u001b[39m,\u001b[33m'\u001b[39m\u001b[33mD2\u001b[39m\u001b[33m'\u001b[39m],loc=\u001b[33m'\u001b[39m\u001b[33mupper right\u001b[39m\u001b[33m'\u001b[39m, fontsize=\u001b[32m22\u001b[39m)\n\u001b[32m     11\u001b[39m plt.tight_layout()\n\u001b[32m---> \u001b[39m\u001b[32m12\u001b[39m \u001b[43mplt\u001b[49m\u001b[43m.\u001b[49m\u001b[43msavefig\u001b[49m\u001b[43m(\u001b[49m\u001b[33;43m'\u001b[39;49m\u001b[33;43m./plots/d1_d2/pdf/cpu_load_pdf.pdf\u001b[39;49m\u001b[33;43m'\u001b[39;49m\u001b[43m)\u001b[49m\n",
      "\u001b[36mFile \u001b[39m\u001b[32m/opt/anaconda3/envs/egi-jupyterlab-ext/lib/python3.13/site-packages/matplotlib/pyplot.py:1243\u001b[39m, in \u001b[36msavefig\u001b[39m\u001b[34m(*args, **kwargs)\u001b[39m\n\u001b[32m   1240\u001b[39m fig = gcf()\n\u001b[32m   1241\u001b[39m \u001b[38;5;66;03m# savefig default implementation has no return, so mypy is unhappy\u001b[39;00m\n\u001b[32m   1242\u001b[39m \u001b[38;5;66;03m# presumably this is here because subclasses can return?\u001b[39;00m\n\u001b[32m-> \u001b[39m\u001b[32m1243\u001b[39m res = \u001b[43mfig\u001b[49m\u001b[43m.\u001b[49m\u001b[43msavefig\u001b[49m\u001b[43m(\u001b[49m\u001b[43m*\u001b[49m\u001b[43margs\u001b[49m\u001b[43m,\u001b[49m\u001b[43m \u001b[49m\u001b[43m*\u001b[49m\u001b[43m*\u001b[49m\u001b[43mkwargs\u001b[49m\u001b[43m)\u001b[49m  \u001b[38;5;66;03m# type: ignore[func-returns-value]\u001b[39;00m\n\u001b[32m   1244\u001b[39m fig.canvas.draw_idle()  \u001b[38;5;66;03m# Need this if 'transparent=True', to reset colors.\u001b[39;00m\n\u001b[32m   1245\u001b[39m \u001b[38;5;28;01mreturn\u001b[39;00m res\n",
      "\u001b[36mFile \u001b[39m\u001b[32m/opt/anaconda3/envs/egi-jupyterlab-ext/lib/python3.13/site-packages/matplotlib/figure.py:3490\u001b[39m, in \u001b[36mFigure.savefig\u001b[39m\u001b[34m(self, fname, transparent, **kwargs)\u001b[39m\n\u001b[32m   3488\u001b[39m     \u001b[38;5;28;01mfor\u001b[39;00m ax \u001b[38;5;129;01min\u001b[39;00m \u001b[38;5;28mself\u001b[39m.axes:\n\u001b[32m   3489\u001b[39m         _recursively_make_axes_transparent(stack, ax)\n\u001b[32m-> \u001b[39m\u001b[32m3490\u001b[39m \u001b[38;5;28;43mself\u001b[39;49m\u001b[43m.\u001b[49m\u001b[43mcanvas\u001b[49m\u001b[43m.\u001b[49m\u001b[43mprint_figure\u001b[49m\u001b[43m(\u001b[49m\u001b[43mfname\u001b[49m\u001b[43m,\u001b[49m\u001b[43m \u001b[49m\u001b[43m*\u001b[49m\u001b[43m*\u001b[49m\u001b[43mkwargs\u001b[49m\u001b[43m)\u001b[49m\n",
      "\u001b[36mFile \u001b[39m\u001b[32m/opt/anaconda3/envs/egi-jupyterlab-ext/lib/python3.13/site-packages/matplotlib/backend_bases.py:2184\u001b[39m, in \u001b[36mFigureCanvasBase.print_figure\u001b[39m\u001b[34m(self, filename, dpi, facecolor, edgecolor, orientation, format, bbox_inches, pad_inches, bbox_extra_artists, backend, **kwargs)\u001b[39m\n\u001b[32m   2180\u001b[39m \u001b[38;5;28;01mtry\u001b[39;00m:\n\u001b[32m   2181\u001b[39m     \u001b[38;5;66;03m# _get_renderer may change the figure dpi (as vector formats\u001b[39;00m\n\u001b[32m   2182\u001b[39m     \u001b[38;5;66;03m# force the figure dpi to 72), so we need to set it again here.\u001b[39;00m\n\u001b[32m   2183\u001b[39m     \u001b[38;5;28;01mwith\u001b[39;00m cbook._setattr_cm(\u001b[38;5;28mself\u001b[39m.figure, dpi=dpi):\n\u001b[32m-> \u001b[39m\u001b[32m2184\u001b[39m         result = \u001b[43mprint_method\u001b[49m\u001b[43m(\u001b[49m\n\u001b[32m   2185\u001b[39m \u001b[43m            \u001b[49m\u001b[43mfilename\u001b[49m\u001b[43m,\u001b[49m\n\u001b[32m   2186\u001b[39m \u001b[43m            \u001b[49m\u001b[43mfacecolor\u001b[49m\u001b[43m=\u001b[49m\u001b[43mfacecolor\u001b[49m\u001b[43m,\u001b[49m\n\u001b[32m   2187\u001b[39m \u001b[43m            \u001b[49m\u001b[43medgecolor\u001b[49m\u001b[43m=\u001b[49m\u001b[43medgecolor\u001b[49m\u001b[43m,\u001b[49m\n\u001b[32m   2188\u001b[39m \u001b[43m            \u001b[49m\u001b[43morientation\u001b[49m\u001b[43m=\u001b[49m\u001b[43morientation\u001b[49m\u001b[43m,\u001b[49m\n\u001b[32m   2189\u001b[39m \u001b[43m            \u001b[49m\u001b[43mbbox_inches_restore\u001b[49m\u001b[43m=\u001b[49m\u001b[43m_bbox_inches_restore\u001b[49m\u001b[43m,\u001b[49m\n\u001b[32m   2190\u001b[39m \u001b[43m            \u001b[49m\u001b[43m*\u001b[49m\u001b[43m*\u001b[49m\u001b[43mkwargs\u001b[49m\u001b[43m)\u001b[49m\n\u001b[32m   2191\u001b[39m \u001b[38;5;28;01mfinally\u001b[39;00m:\n\u001b[32m   2192\u001b[39m     \u001b[38;5;28;01mif\u001b[39;00m bbox_inches \u001b[38;5;129;01mand\u001b[39;00m restore_bbox:\n",
      "\u001b[36mFile \u001b[39m\u001b[32m/opt/anaconda3/envs/egi-jupyterlab-ext/lib/python3.13/site-packages/matplotlib/backend_bases.py:2040\u001b[39m, in \u001b[36mFigureCanvasBase._switch_canvas_and_return_print_method.<locals>.<lambda>\u001b[39m\u001b[34m(*args, **kwargs)\u001b[39m\n\u001b[32m   2036\u001b[39m     optional_kws = {  \u001b[38;5;66;03m# Passed by print_figure for other renderers.\u001b[39;00m\n\u001b[32m   2037\u001b[39m         \u001b[33m\"\u001b[39m\u001b[33mdpi\u001b[39m\u001b[33m\"\u001b[39m, \u001b[33m\"\u001b[39m\u001b[33mfacecolor\u001b[39m\u001b[33m\"\u001b[39m, \u001b[33m\"\u001b[39m\u001b[33medgecolor\u001b[39m\u001b[33m\"\u001b[39m, \u001b[33m\"\u001b[39m\u001b[33morientation\u001b[39m\u001b[33m\"\u001b[39m,\n\u001b[32m   2038\u001b[39m         \u001b[33m\"\u001b[39m\u001b[33mbbox_inches_restore\u001b[39m\u001b[33m\"\u001b[39m}\n\u001b[32m   2039\u001b[39m     skip = optional_kws - {*inspect.signature(meth).parameters}\n\u001b[32m-> \u001b[39m\u001b[32m2040\u001b[39m     print_method = functools.wraps(meth)(\u001b[38;5;28;01mlambda\u001b[39;00m *args, **kwargs: \u001b[43mmeth\u001b[49m\u001b[43m(\u001b[49m\n\u001b[32m   2041\u001b[39m \u001b[43m        \u001b[49m\u001b[43m*\u001b[49m\u001b[43margs\u001b[49m\u001b[43m,\u001b[49m\u001b[43m \u001b[49m\u001b[43m*\u001b[49m\u001b[43m*\u001b[49m\u001b[43m{\u001b[49m\u001b[43mk\u001b[49m\u001b[43m:\u001b[49m\u001b[43m \u001b[49m\u001b[43mv\u001b[49m\u001b[43m \u001b[49m\u001b[38;5;28;43;01mfor\u001b[39;49;00m\u001b[43m \u001b[49m\u001b[43mk\u001b[49m\u001b[43m,\u001b[49m\u001b[43m \u001b[49m\u001b[43mv\u001b[49m\u001b[43m \u001b[49m\u001b[38;5;129;43;01min\u001b[39;49;00m\u001b[43m \u001b[49m\u001b[43mkwargs\u001b[49m\u001b[43m.\u001b[49m\u001b[43mitems\u001b[49m\u001b[43m(\u001b[49m\u001b[43m)\u001b[49m\u001b[43m \u001b[49m\u001b[38;5;28;43;01mif\u001b[39;49;00m\u001b[43m \u001b[49m\u001b[43mk\u001b[49m\u001b[43m \u001b[49m\u001b[38;5;129;43;01mnot\u001b[39;49;00m\u001b[43m \u001b[49m\u001b[38;5;129;43;01min\u001b[39;49;00m\u001b[43m \u001b[49m\u001b[43mskip\u001b[49m\u001b[43m}\u001b[49m\u001b[43m)\u001b[49m)\n\u001b[32m   2042\u001b[39m \u001b[38;5;28;01melse\u001b[39;00m:  \u001b[38;5;66;03m# Let third-parties do as they see fit.\u001b[39;00m\n\u001b[32m   2043\u001b[39m     print_method = meth\n",
      "\u001b[36mFile \u001b[39m\u001b[32m/opt/anaconda3/envs/egi-jupyterlab-ext/lib/python3.13/site-packages/matplotlib/backends/backend_pdf.py:2779\u001b[39m, in \u001b[36mFigureCanvasPdf.print_pdf\u001b[39m\u001b[34m(self, filename, bbox_inches_restore, metadata)\u001b[39m\n\u001b[32m   2777\u001b[39m     file = filename._ensure_file()\n\u001b[32m   2778\u001b[39m \u001b[38;5;28;01melse\u001b[39;00m:\n\u001b[32m-> \u001b[39m\u001b[32m2779\u001b[39m     file = \u001b[43mPdfFile\u001b[49m\u001b[43m(\u001b[49m\u001b[43mfilename\u001b[49m\u001b[43m,\u001b[49m\u001b[43m \u001b[49m\u001b[43mmetadata\u001b[49m\u001b[43m=\u001b[49m\u001b[43mmetadata\u001b[49m\u001b[43m)\u001b[49m\n\u001b[32m   2780\u001b[39m \u001b[38;5;28;01mtry\u001b[39;00m:\n\u001b[32m   2781\u001b[39m     file.newPage(width, height)\n",
      "\u001b[36mFile \u001b[39m\u001b[32m/opt/anaconda3/envs/egi-jupyterlab-ext/lib/python3.13/site-packages/matplotlib/backends/backend_pdf.py:687\u001b[39m, in \u001b[36mPdfFile.__init__\u001b[39m\u001b[34m(self, filename, metadata)\u001b[39m\n\u001b[32m    685\u001b[39m \u001b[38;5;28mself\u001b[39m.original_file_like = \u001b[38;5;28;01mNone\u001b[39;00m\n\u001b[32m    686\u001b[39m \u001b[38;5;28mself\u001b[39m.tell_base = \u001b[32m0\u001b[39m\n\u001b[32m--> \u001b[39m\u001b[32m687\u001b[39m fh, opened = \u001b[43mcbook\u001b[49m\u001b[43m.\u001b[49m\u001b[43mto_filehandle\u001b[49m\u001b[43m(\u001b[49m\u001b[43mfilename\u001b[49m\u001b[43m,\u001b[49m\u001b[43m \u001b[49m\u001b[33;43m\"\u001b[39;49m\u001b[33;43mwb\u001b[39;49m\u001b[33;43m\"\u001b[39;49m\u001b[43m,\u001b[49m\u001b[43m \u001b[49m\u001b[43mreturn_opened\u001b[49m\u001b[43m=\u001b[49m\u001b[38;5;28;43;01mTrue\u001b[39;49;00m\u001b[43m)\u001b[49m\n\u001b[32m    688\u001b[39m \u001b[38;5;28;01mif\u001b[39;00m \u001b[38;5;129;01mnot\u001b[39;00m opened:\n\u001b[32m    689\u001b[39m     \u001b[38;5;28;01mtry\u001b[39;00m:\n",
      "\u001b[36mFile \u001b[39m\u001b[32m/opt/anaconda3/envs/egi-jupyterlab-ext/lib/python3.13/site-packages/matplotlib/cbook.py:546\u001b[39m, in \u001b[36mto_filehandle\u001b[39m\u001b[34m(fname, flag, return_opened, encoding)\u001b[39m\n\u001b[32m    544\u001b[39m         fh = bz2.BZ2File(fname, flag)\n\u001b[32m    545\u001b[39m     \u001b[38;5;28;01melse\u001b[39;00m:\n\u001b[32m--> \u001b[39m\u001b[32m546\u001b[39m         fh = \u001b[38;5;28;43mopen\u001b[39;49m\u001b[43m(\u001b[49m\u001b[43mfname\u001b[49m\u001b[43m,\u001b[49m\u001b[43m \u001b[49m\u001b[43mflag\u001b[49m\u001b[43m,\u001b[49m\u001b[43m \u001b[49m\u001b[43mencoding\u001b[49m\u001b[43m=\u001b[49m\u001b[43mencoding\u001b[49m\u001b[43m)\u001b[49m\n\u001b[32m    547\u001b[39m     opened = \u001b[38;5;28;01mTrue\u001b[39;00m\n\u001b[32m    548\u001b[39m \u001b[38;5;28;01melif\u001b[39;00m \u001b[38;5;28mhasattr\u001b[39m(fname, \u001b[33m'\u001b[39m\u001b[33mseek\u001b[39m\u001b[33m'\u001b[39m):\n",
      "\u001b[31mFileNotFoundError\u001b[39m: [Errno 2] No such file or directory: './plots/d1_d2/pdf/cpu_load_pdf.pdf'"
     ]
    },
    {
     "data": {
      "image/png": "[encoded data removed]",
      "text/plain": [
       "<Figure size 800x600 with 1 Axes>"
      ]
     },
     "metadata": {},
     "output_type": "display_data"
    }
   ],
   "source": [
    "\n",
    "plt.figure(figsize=(8, 6))\n",
    "sns.distplot(d1.CPU_Load)\n",
    "sns.distplot(d2.CPU_Load)\n",
    "\n",
    "plt.xlabel( r\"$\\ CPU (\\%) $\", fontsize=24)\n",
    "plt.ylabel(r\"$\\ Density $\", fontsize=24)\n",
    "matplotlib.rc('xtick', labelsize=20) \n",
    "matplotlib.rc('ytick', labelsize=20) \n",
    "plt.legend(labels = ['D1','D2'],loc='upper right', fontsize=22)\n",
    "\n",
    "plt.tight_layout()\n",
    "plt.savefig('./plots/d1_d2/pdf/cpu_load_pdf.pdf')\n"
   ]
  },
  {
   "cell_type": "markdown",
   "metadata": {},
   "source": [
    "### Power"
   ]
  },
  {
   "cell_type": "code",
   "execution_count": 24,
   "metadata": {},
   "outputs": [
    {
     "name": "stderr",
     "output_type": "stream",
     "text": [
      "/tmp/ipykernel_88977/268411169.py:2: UserWarning: \n",
      "\n",
      "`distplot` is a deprecated function and will be removed in seaborn v0.14.0.\n",
      "\n",
      "Please adapt your code to use either `displot` (a figure-level function with\n",
      "similar flexibility) or `histplot` (an axes-level function for histograms).\n",
      "\n",
      "For a guide to updating your code to use the new functions, please see\n",
      "https://gist.github.com/mwaskom/de44147ed2974457ad6372750bbe5751\n",
      "\n",
      "  sns.distplot(d1.Power)\n",
      "/tmp/ipykernel_88977/268411169.py:3: UserWarning: \n",
      "\n",
      "`distplot` is a deprecated function and will be removed in seaborn v0.14.0.\n",
      "\n",
      "Please adapt your code to use either `displot` (a figure-level function with\n",
      "similar flexibility) or `histplot` (an axes-level function for histograms).\n",
      "\n",
      "For a guide to updating your code to use the new functions, please see\n",
      "https://gist.github.com/mwaskom/de44147ed2974457ad6372750bbe5751\n",
      "\n",
      "  sns.distplot(d2.Power)\n"
     ]
    },
    {
     "ename": "FileNotFoundError",
     "evalue": "[Errno 2] No such file or directory: './plots/d1_d2/pdf/power_pdf.pdf'",
     "output_type": "error",
     "traceback": [
      "\u001b[31m---------------------------------------------------------------------------\u001b[39m",
      "\u001b[31mFileNotFoundError\u001b[39m                         Traceback (most recent call last)",
      "\u001b[36mCell\u001b[39m\u001b[36m \u001b[39m\u001b[32mIn[24]\u001b[39m\u001b[32m, line 10\u001b[39m\n\u001b[32m      8\u001b[39m matplotlib.rc(\u001b[33m'\u001b[39m\u001b[33mytick\u001b[39m\u001b[33m'\u001b[39m, labelsize=\u001b[32m20\u001b[39m) \n\u001b[32m      9\u001b[39m plt.legend(labels = [\u001b[33m'\u001b[39m\u001b[33mD1\u001b[39m\u001b[33m'\u001b[39m,\u001b[33m'\u001b[39m\u001b[33mD2\u001b[39m\u001b[33m'\u001b[39m],loc=\u001b[33m'\u001b[39m\u001b[33mupper right\u001b[39m\u001b[33m'\u001b[39m, fontsize=\u001b[32m22\u001b[39m)\n\u001b[32m---> \u001b[39m\u001b[32m10\u001b[39m \u001b[43mplt\u001b[49m\u001b[43m.\u001b[49m\u001b[43msavefig\u001b[49m\u001b[43m(\u001b[49m\u001b[33;43m\"\u001b[39;49m\u001b[33;43m./plots/d1_d2/pdf/power_pdf.pdf\u001b[39;49m\u001b[33;43m\"\u001b[39;49m\u001b[43m,\u001b[49m\u001b[43m \u001b[49m\u001b[38;5;28;43mformat\u001b[39;49m\u001b[43m=\u001b[49m\u001b[33;43m\"\u001b[39;49m\u001b[33;43mpdf\u001b[39;49m\u001b[33;43m\"\u001b[39;49m\u001b[43m,\u001b[49m\u001b[43m \u001b[49m\u001b[43mbbox_inches\u001b[49m\u001b[43m=\u001b[49m\u001b[33;43m\"\u001b[39;49m\u001b[33;43mtight\u001b[39;49m\u001b[33;43m\"\u001b[39;49m\u001b[43m)\u001b[49m\n",
      "\u001b[36mFile \u001b[39m\u001b[32m/opt/anaconda3/envs/egi-jupyterlab-ext/lib/python3.13/site-packages/matplotlib/pyplot.py:1243\u001b[39m, in \u001b[36msavefig\u001b[39m\u001b[34m(*args, **kwargs)\u001b[39m\n\u001b[32m   1240\u001b[39m fig = gcf()\n\u001b[32m   1241\u001b[39m \u001b[38;5;66;03m# savefig default implementation has no return, so mypy is unhappy\u001b[39;00m\n\u001b[32m   1242\u001b[39m \u001b[38;5;66;03m# presumably this is here because subclasses can return?\u001b[39;00m\n\u001b[32m-> \u001b[39m\u001b[32m1243\u001b[39m res = \u001b[43mfig\u001b[49m\u001b[43m.\u001b[49m\u001b[43msavefig\u001b[49m\u001b[43m(\u001b[49m\u001b[43m*\u001b[49m\u001b[43margs\u001b[49m\u001b[43m,\u001b[49m\u001b[43m \u001b[49m\u001b[43m*\u001b[49m\u001b[43m*\u001b[49m\u001b[43mkwargs\u001b[49m\u001b[43m)\u001b[49m  \u001b[38;5;66;03m# type: ignore[func-returns-value]\u001b[39;00m\n\u001b[32m   1244\u001b[39m fig.canvas.draw_idle()  \u001b[38;5;66;03m# Need this if 'transparent=True', to reset colors.\u001b[39;00m\n\u001b[32m   1245\u001b[39m \u001b[38;5;28;01mreturn\u001b[39;00m res\n",
      "\u001b[36mFile \u001b[39m\u001b[32m/opt/anaconda3/envs/egi-jupyterlab-ext/lib/python3.13/site-packages/matplotlib/figure.py:3490\u001b[39m, in \u001b[36mFigure.savefig\u001b[39m\u001b[34m(self, fname, transparent, **kwargs)\u001b[39m\n\u001b[32m   3488\u001b[39m     \u001b[38;5;28;01mfor\u001b[39;00m ax \u001b[38;5;129;01min\u001b[39;00m \u001b[38;5;28mself\u001b[39m.axes:\n\u001b[32m   3489\u001b[39m         _recursively_make_axes_transparent(stack, ax)\n\u001b[32m-> \u001b[39m\u001b[32m3490\u001b[39m \u001b[38;5;28;43mself\u001b[39;49m\u001b[43m.\u001b[49m\u001b[43mcanvas\u001b[49m\u001b[43m.\u001b[49m\u001b[43mprint_figure\u001b[49m\u001b[43m(\u001b[49m\u001b[43mfname\u001b[49m\u001b[43m,\u001b[49m\u001b[43m \u001b[49m\u001b[43m*\u001b[49m\u001b[43m*\u001b[49m\u001b[43mkwargs\u001b[49m\u001b[43m)\u001b[49m\n",
      "\u001b[36mFile \u001b[39m\u001b[32m/opt/anaconda3/envs/egi-jupyterlab-ext/lib/python3.13/site-packages/matplotlib/backend_bases.py:2184\u001b[39m, in \u001b[36mFigureCanvasBase.print_figure\u001b[39m\u001b[34m(self, filename, dpi, facecolor, edgecolor, orientation, format, bbox_inches, pad_inches, bbox_extra_artists, backend, **kwargs)\u001b[39m\n\u001b[32m   2180\u001b[39m \u001b[38;5;28;01mtry\u001b[39;00m:\n\u001b[32m   2181\u001b[39m     \u001b[38;5;66;03m# _get_renderer may change the figure dpi (as vector formats\u001b[39;00m\n\u001b[32m   2182\u001b[39m     \u001b[38;5;66;03m# force the figure dpi to 72), so we need to set it again here.\u001b[39;00m\n\u001b[32m   2183\u001b[39m     \u001b[38;5;28;01mwith\u001b[39;00m cbook._setattr_cm(\u001b[38;5;28mself\u001b[39m.figure, dpi=dpi):\n\u001b[32m-> \u001b[39m\u001b[32m2184\u001b[39m         result = \u001b[43mprint_method\u001b[49m\u001b[43m(\u001b[49m\n\u001b[32m   2185\u001b[39m \u001b[43m            \u001b[49m\u001b[43mfilename\u001b[49m\u001b[43m,\u001b[49m\n\u001b[32m   2186\u001b[39m \u001b[43m            \u001b[49m\u001b[43mfacecolor\u001b[49m\u001b[43m=\u001b[49m\u001b[43mfacecolor\u001b[49m\u001b[43m,\u001b[49m\n\u001b[32m   2187\u001b[39m \u001b[43m            \u001b[49m\u001b[43medgecolor\u001b[49m\u001b[43m=\u001b[49m\u001b[43medgecolor\u001b[49m\u001b[43m,\u001b[49m\n\u001b[32m   2188\u001b[39m \u001b[43m            \u001b[49m\u001b[43morientation\u001b[49m\u001b[43m=\u001b[49m\u001b[43morientation\u001b[49m\u001b[43m,\u001b[49m\n\u001b[32m   2189\u001b[39m \u001b[43m            \u001b[49m\u001b[43mbbox_inches_restore\u001b[49m\u001b[43m=\u001b[49m\u001b[43m_bbox_inches_restore\u001b[49m\u001b[43m,\u001b[49m\n\u001b[32m   2190\u001b[39m \u001b[43m            \u001b[49m\u001b[43m*\u001b[49m\u001b[43m*\u001b[49m\u001b[43mkwargs\u001b[49m\u001b[43m)\u001b[49m\n\u001b[32m   2191\u001b[39m \u001b[38;5;28;01mfinally\u001b[39;00m:\n\u001b[32m   2192\u001b[39m     \u001b[38;5;28;01mif\u001b[39;00m bbox_inches \u001b[38;5;129;01mand\u001b[39;00m restore_bbox:\n",
      "\u001b[36mFile \u001b[39m\u001b[32m/opt/anaconda3/envs/egi-jupyterlab-ext/lib/python3.13/site-packages/matplotlib/backend_bases.py:2040\u001b[39m, in \u001b[36mFigureCanvasBase._switch_canvas_and_return_print_method.<locals>.<lambda>\u001b[39m\u001b[34m(*args, **kwargs)\u001b[39m\n\u001b[32m   2036\u001b[39m     optional_kws = {  \u001b[38;5;66;03m# Passed by print_figure for other renderers.\u001b[39;00m\n\u001b[32m   2037\u001b[39m         \u001b[33m\"\u001b[39m\u001b[33mdpi\u001b[39m\u001b[33m\"\u001b[39m, \u001b[33m\"\u001b[39m\u001b[33mfacecolor\u001b[39m\u001b[33m\"\u001b[39m, \u001b[33m\"\u001b[39m\u001b[33medgecolor\u001b[39m\u001b[33m\"\u001b[39m, \u001b[33m\"\u001b[39m\u001b[33morientation\u001b[39m\u001b[33m\"\u001b[39m,\n\u001b[32m   2038\u001b[39m         \u001b[33m\"\u001b[39m\u001b[33mbbox_inches_restore\u001b[39m\u001b[33m\"\u001b[39m}\n\u001b[32m   2039\u001b[39m     skip = optional_kws - {*inspect.signature(meth).parameters}\n\u001b[32m-> \u001b[39m\u001b[32m2040\u001b[39m     print_method = functools.wraps(meth)(\u001b[38;5;28;01mlambda\u001b[39;00m *args, **kwargs: \u001b[43mmeth\u001b[49m\u001b[43m(\u001b[49m\n\u001b[32m   2041\u001b[39m \u001b[43m        \u001b[49m\u001b[43m*\u001b[49m\u001b[43margs\u001b[49m\u001b[43m,\u001b[49m\u001b[43m \u001b[49m\u001b[43m*\u001b[49m\u001b[43m*\u001b[49m\u001b[43m{\u001b[49m\u001b[43mk\u001b[49m\u001b[43m:\u001b[49m\u001b[43m \u001b[49m\u001b[43mv\u001b[49m\u001b[43m \u001b[49m\u001b[38;5;28;43;01mfor\u001b[39;49;00m\u001b[43m \u001b[49m\u001b[43mk\u001b[49m\u001b[43m,\u001b[49m\u001b[43m \u001b[49m\u001b[43mv\u001b[49m\u001b[43m \u001b[49m\u001b[38;5;129;43;01min\u001b[39;49;00m\u001b[43m \u001b[49m\u001b[43mkwargs\u001b[49m\u001b[43m.\u001b[49m\u001b[43mitems\u001b[49m\u001b[43m(\u001b[49m\u001b[43m)\u001b[49m\u001b[43m \u001b[49m\u001b[38;5;28;43;01mif\u001b[39;49;00m\u001b[43m \u001b[49m\u001b[43mk\u001b[49m\u001b[43m \u001b[49m\u001b[38;5;129;43;01mnot\u001b[39;49;00m\u001b[43m \u001b[49m\u001b[38;5;129;43;01min\u001b[39;49;00m\u001b[43m \u001b[49m\u001b[43mskip\u001b[49m\u001b[43m}\u001b[49m\u001b[43m)\u001b[49m)\n\u001b[32m   2042\u001b[39m \u001b[38;5;28;01melse\u001b[39;00m:  \u001b[38;5;66;03m# Let third-parties do as they see fit.\u001b[39;00m\n\u001b[32m   2043\u001b[39m     print_method = meth\n",
      "\u001b[36mFile \u001b[39m\u001b[32m/opt/anaconda3/envs/egi-jupyterlab-ext/lib/python3.13/site-packages/matplotlib/backends/backend_pdf.py:2779\u001b[39m, in \u001b[36mFigureCanvasPdf.print_pdf\u001b[39m\u001b[34m(self, filename, bbox_inches_restore, metadata)\u001b[39m\n\u001b[32m   2777\u001b[39m     file = filename._ensure_file()\n\u001b[32m   2778\u001b[39m \u001b[38;5;28;01melse\u001b[39;00m:\n\u001b[32m-> \u001b[39m\u001b[32m2779\u001b[39m     file = \u001b[43mPdfFile\u001b[49m\u001b[43m(\u001b[49m\u001b[43mfilename\u001b[49m\u001b[43m,\u001b[49m\u001b[43m \u001b[49m\u001b[43mmetadata\u001b[49m\u001b[43m=\u001b[49m\u001b[43mmetadata\u001b[49m\u001b[43m)\u001b[49m\n\u001b[32m   2780\u001b[39m \u001b[38;5;28;01mtry\u001b[39;00m:\n\u001b[32m   2781\u001b[39m     file.newPage(width, height)\n",
      "\u001b[36mFile \u001b[39m\u001b[32m/opt/anaconda3/envs/egi-jupyterlab-ext/lib/python3.13/site-packages/matplotlib/backends/backend_pdf.py:687\u001b[39m, in \u001b[36mPdfFile.__init__\u001b[39m\u001b[34m(self, filename, metadata)\u001b[39m\n\u001b[32m    685\u001b[39m \u001b[38;5;28mself\u001b[39m.original_file_like = \u001b[38;5;28;01mNone\u001b[39;00m\n\u001b[32m    686\u001b[39m \u001b[38;5;28mself\u001b[39m.tell_base = \u001b[32m0\u001b[39m\n\u001b[32m--> \u001b[39m\u001b[32m687\u001b[39m fh, opened = \u001b[43mcbook\u001b[49m\u001b[43m.\u001b[49m\u001b[43mto_filehandle\u001b[49m\u001b[43m(\u001b[49m\u001b[43mfilename\u001b[49m\u001b[43m,\u001b[49m\u001b[43m \u001b[49m\u001b[33;43m\"\u001b[39;49m\u001b[33;43mwb\u001b[39;49m\u001b[33;43m\"\u001b[39;49m\u001b[43m,\u001b[49m\u001b[43m \u001b[49m\u001b[43mreturn_opened\u001b[49m\u001b[43m=\u001b[49m\u001b[38;5;28;43;01mTrue\u001b[39;49;00m\u001b[43m)\u001b[49m\n\u001b[32m    688\u001b[39m \u001b[38;5;28;01mif\u001b[39;00m \u001b[38;5;129;01mnot\u001b[39;00m opened:\n\u001b[32m    689\u001b[39m     \u001b[38;5;28;01mtry\u001b[39;00m:\n",
      "\u001b[36mFile \u001b[39m\u001b[32m/opt/anaconda3/envs/egi-jupyterlab-ext/lib/python3.13/site-packages/matplotlib/cbook.py:546\u001b[39m, in \u001b[36mto_filehandle\u001b[39m\u001b[34m(fname, flag, return_opened, encoding)\u001b[39m\n\u001b[32m    544\u001b[39m         fh = bz2.BZ2File(fname, flag)\n\u001b[32m    545\u001b[39m     \u001b[38;5;28;01melse\u001b[39;00m:\n\u001b[32m--> \u001b[39m\u001b[32m546\u001b[39m         fh = \u001b[38;5;28;43mopen\u001b[39;49m\u001b[43m(\u001b[49m\u001b[43mfname\u001b[49m\u001b[43m,\u001b[49m\u001b[43m \u001b[49m\u001b[43mflag\u001b[49m\u001b[43m,\u001b[49m\u001b[43m \u001b[49m\u001b[43mencoding\u001b[49m\u001b[43m=\u001b[49m\u001b[43mencoding\u001b[49m\u001b[43m)\u001b[49m\n\u001b[32m    547\u001b[39m     opened = \u001b[38;5;28;01mTrue\u001b[39;00m\n\u001b[32m    548\u001b[39m \u001b[38;5;28;01melif\u001b[39;00m \u001b[38;5;28mhasattr\u001b[39m(fname, \u001b[33m'\u001b[39m\u001b[33mseek\u001b[39m\u001b[33m'\u001b[39m):\n",
      "\u001b[31mFileNotFoundError\u001b[39m: [Errno 2] No such file or directory: './plots/d1_d2/pdf/power_pdf.pdf'"
     ]
    },
    {
     "data": {
      "image/png": "[encoded data removed]",
      "text/plain": [
       "<Figure size 800x600 with 1 Axes>"
      ]
     },
     "metadata": {},
     "output_type": "display_data"
    }
   ],
   "source": [
    "plt.figure(figsize=(8, 6))\n",
    "sns.distplot(d1.Power)\n",
    "sns.distplot(d2.Power)\n",
    "\n",
    "plt.xlabel( r\"$\\ P (watts) $\", fontsize=24)\n",
    "plt.ylabel(r\"$\\ Density $\", fontsize=24)\n",
    "matplotlib.rc('xtick', labelsize=20) \n",
    "matplotlib.rc('ytick', labelsize=20) \n",
    "plt.legend(labels = ['D1','D2'],loc='upper right', fontsize=22)\n",
    "plt.savefig(\"./plots/d1_d2/pdf/power_pdf.pdf\", format=\"pdf\", bbox_inches=\"tight\")"
   ]
  },
  {
   "cell_type": "markdown",
   "metadata": {},
   "source": [
    "### Network Rx and TX"
   ]
  },
  {
   "cell_type": "code",
   "execution_count": 25,
   "metadata": {},
   "outputs": [
    {
     "name": "stderr",
     "output_type": "stream",
     "text": [
      "/tmp/ipykernel_88977/2012542288.py:2: UserWarning: \n",
      "\n",
      "`distplot` is a deprecated function and will be removed in seaborn v0.14.0.\n",
      "\n",
      "Please adapt your code to use either `displot` (a figure-level function with\n",
      "similar flexibility) or `histplot` (an axes-level function for histograms).\n",
      "\n",
      "For a guide to updating your code to use the new functions, please see\n",
      "https://gist.github.com/mwaskom/de44147ed2974457ad6372750bbe5751\n",
      "\n",
      "  sns.distplot(d1.Network_RX)\n",
      "/tmp/ipykernel_88977/2012542288.py:3: UserWarning: \n",
      "\n",
      "`distplot` is a deprecated function and will be removed in seaborn v0.14.0.\n",
      "\n",
      "Please adapt your code to use either `displot` (a figure-level function with\n",
      "similar flexibility) or `histplot` (an axes-level function for histograms).\n",
      "\n",
      "For a guide to updating your code to use the new functions, please see\n",
      "https://gist.github.com/mwaskom/de44147ed2974457ad6372750bbe5751\n",
      "\n",
      "  sns.distplot(d2.Network_RX)\n"
     ]
    },
    {
     "ename": "FileNotFoundError",
     "evalue": "[Errno 2] No such file or directory: './plots/d1_d2/pdf/Network_RX_PDF.pdf'",
     "output_type": "error",
     "traceback": [
      "\u001b[31m---------------------------------------------------------------------------\u001b[39m",
      "\u001b[31mFileNotFoundError\u001b[39m                         Traceback (most recent call last)",
      "\u001b[36mCell\u001b[39m\u001b[36m \u001b[39m\u001b[32mIn[25]\u001b[39m\u001b[32m, line 11\u001b[39m\n\u001b[32m      9\u001b[39m plt.yscale(\u001b[33m'\u001b[39m\u001b[33mlog\u001b[39m\u001b[33m'\u001b[39m)\n\u001b[32m     10\u001b[39m plt.legend(labels = [\u001b[33m'\u001b[39m\u001b[33mD1\u001b[39m\u001b[33m'\u001b[39m,\u001b[33m'\u001b[39m\u001b[33mD2\u001b[39m\u001b[33m'\u001b[39m],loc=\u001b[33m'\u001b[39m\u001b[33mupper right\u001b[39m\u001b[33m'\u001b[39m, fontsize=\u001b[32m22\u001b[39m)\n\u001b[32m---> \u001b[39m\u001b[32m11\u001b[39m \u001b[43mplt\u001b[49m\u001b[43m.\u001b[49m\u001b[43msavefig\u001b[49m\u001b[43m(\u001b[49m\u001b[33;43m\"\u001b[39;49m\u001b[33;43m./plots/d1_d2/pdf/Network_RX_PDF.pdf\u001b[39;49m\u001b[33;43m\"\u001b[39;49m\u001b[43m,\u001b[49m\u001b[43m \u001b[49m\u001b[38;5;28;43mformat\u001b[39;49m\u001b[43m=\u001b[49m\u001b[33;43m\"\u001b[39;49m\u001b[33;43mpdf\u001b[39;49m\u001b[33;43m\"\u001b[39;49m\u001b[43m,\u001b[49m\u001b[43m \u001b[49m\u001b[43mbbox_inches\u001b[49m\u001b[43m=\u001b[49m\u001b[33;43m\"\u001b[39;49m\u001b[33;43mtight\u001b[39;49m\u001b[33;43m\"\u001b[39;49m\u001b[43m)\u001b[49m\n",
      "\u001b[36mFile \u001b[39m\u001b[32m/opt/anaconda3/envs/egi-jupyterlab-ext/lib/python3.13/site-packages/matplotlib/pyplot.py:1243\u001b[39m, in \u001b[36msavefig\u001b[39m\u001b[34m(*args, **kwargs)\u001b[39m\n\u001b[32m   1240\u001b[39m fig = gcf()\n\u001b[32m   1241\u001b[39m \u001b[38;5;66;03m# savefig default implementation has no return, so mypy is unhappy\u001b[39;00m\n\u001b[32m   1242\u001b[39m \u001b[38;5;66;03m# presumably this is here because subclasses can return?\u001b[39;00m\n\u001b[32m-> \u001b[39m\u001b[32m1243\u001b[39m res = \u001b[43mfig\u001b[49m\u001b[43m.\u001b[49m\u001b[43msavefig\u001b[49m\u001b[43m(\u001b[49m\u001b[43m*\u001b[49m\u001b[43margs\u001b[49m\u001b[43m,\u001b[49m\u001b[43m \u001b[49m\u001b[43m*\u001b[49m\u001b[43m*\u001b[49m\u001b[43mkwargs\u001b[49m\u001b[43m)\u001b[49m  \u001b[38;5;66;03m# type: ignore[func-returns-value]\u001b[39;00m\n\u001b[32m   1244\u001b[39m fig.canvas.draw_idle()  \u001b[38;5;66;03m# Need this if 'transparent=True', to reset colors.\u001b[39;00m\n\u001b[32m   1245\u001b[39m \u001b[38;5;28;01mreturn\u001b[39;00m res\n",
      "\u001b[36mFile \u001b[39m\u001b[32m/opt/anaconda3/envs/egi-jupyterlab-ext/lib/python3.13/site-packages/matplotlib/figure.py:3490\u001b[39m, in \u001b[36mFigure.savefig\u001b[39m\u001b[34m(self, fname, transparent, **kwargs)\u001b[39m\n\u001b[32m   3488\u001b[39m     \u001b[38;5;28;01mfor\u001b[39;00m ax \u001b[38;5;129;01min\u001b[39;00m \u001b[38;5;28mself\u001b[39m.axes:\n\u001b[32m   3489\u001b[39m         _recursively_make_axes_transparent(stack, ax)\n\u001b[32m-> \u001b[39m\u001b[32m3490\u001b[39m \u001b[38;5;28;43mself\u001b[39;49m\u001b[43m.\u001b[49m\u001b[43mcanvas\u001b[49m\u001b[43m.\u001b[49m\u001b[43mprint_figure\u001b[49m\u001b[43m(\u001b[49m\u001b[43mfname\u001b[49m\u001b[43m,\u001b[49m\u001b[43m \u001b[49m\u001b[43m*\u001b[49m\u001b[43m*\u001b[49m\u001b[43mkwargs\u001b[49m\u001b[43m)\u001b[49m\n",
      "\u001b[36mFile \u001b[39m\u001b[32m/opt/anaconda3/envs/egi-jupyterlab-ext/lib/python3.13/site-packages/matplotlib/backend_bases.py:2184\u001b[39m, in \u001b[36mFigureCanvasBase.print_figure\u001b[39m\u001b[34m(self, filename, dpi, facecolor, edgecolor, orientation, format, bbox_inches, pad_inches, bbox_extra_artists, backend, **kwargs)\u001b[39m\n\u001b[32m   2180\u001b[39m \u001b[38;5;28;01mtry\u001b[39;00m:\n\u001b[32m   2181\u001b[39m     \u001b[38;5;66;03m# _get_renderer may change the figure dpi (as vector formats\u001b[39;00m\n\u001b[32m   2182\u001b[39m     \u001b[38;5;66;03m# force the figure dpi to 72), so we need to set it again here.\u001b[39;00m\n\u001b[32m   2183\u001b[39m     \u001b[38;5;28;01mwith\u001b[39;00m cbook._setattr_cm(\u001b[38;5;28mself\u001b[39m.figure, dpi=dpi):\n\u001b[32m-> \u001b[39m\u001b[32m2184\u001b[39m         result = \u001b[43mprint_method\u001b[49m\u001b[43m(\u001b[49m\n\u001b[32m   2185\u001b[39m \u001b[43m            \u001b[49m\u001b[43mfilename\u001b[49m\u001b[43m,\u001b[49m\n\u001b[32m   2186\u001b[39m \u001b[43m            \u001b[49m\u001b[43mfacecolor\u001b[49m\u001b[43m=\u001b[49m\u001b[43mfacecolor\u001b[49m\u001b[43m,\u001b[49m\n\u001b[32m   2187\u001b[39m \u001b[43m            \u001b[49m\u001b[43medgecolor\u001b[49m\u001b[43m=\u001b[49m\u001b[43medgecolor\u001b[49m\u001b[43m,\u001b[49m\n\u001b[32m   2188\u001b[39m \u001b[43m            \u001b[49m\u001b[43morientation\u001b[49m\u001b[43m=\u001b[49m\u001b[43morientation\u001b[49m\u001b[43m,\u001b[49m\n\u001b[32m   2189\u001b[39m \u001b[43m            \u001b[49m\u001b[43mbbox_inches_restore\u001b[49m\u001b[43m=\u001b[49m\u001b[43m_bbox_inches_restore\u001b[49m\u001b[43m,\u001b[49m\n\u001b[32m   2190\u001b[39m \u001b[43m            \u001b[49m\u001b[43m*\u001b[49m\u001b[43m*\u001b[49m\u001b[43mkwargs\u001b[49m\u001b[43m)\u001b[49m\n\u001b[32m   2191\u001b[39m \u001b[38;5;28;01mfinally\u001b[39;00m:\n\u001b[32m   2192\u001b[39m     \u001b[38;5;28;01mif\u001b[39;00m bbox_inches \u001b[38;5;129;01mand\u001b[39;00m restore_bbox:\n",
      "\u001b[36mFile \u001b[39m\u001b[32m/opt/anaconda3/envs/egi-jupyterlab-ext/lib/python3.13/site-packages/matplotlib/backend_bases.py:2040\u001b[39m, in \u001b[36mFigureCanvasBase._switch_canvas_and_return_print_method.<locals>.<lambda>\u001b[39m\u001b[34m(*args, **kwargs)\u001b[39m\n\u001b[32m   2036\u001b[39m     optional_kws = {  \u001b[38;5;66;03m# Passed by print_figure for other renderers.\u001b[39;00m\n\u001b[32m   2037\u001b[39m         \u001b[33m\"\u001b[39m\u001b[33mdpi\u001b[39m\u001b[33m\"\u001b[39m, \u001b[33m\"\u001b[39m\u001b[33mfacecolor\u001b[39m\u001b[33m\"\u001b[39m, \u001b[33m\"\u001b[39m\u001b[33medgecolor\u001b[39m\u001b[33m\"\u001b[39m, \u001b[33m\"\u001b[39m\u001b[33morientation\u001b[39m\u001b[33m\"\u001b[39m,\n\u001b[32m   2038\u001b[39m         \u001b[33m\"\u001b[39m\u001b[33mbbox_inches_restore\u001b[39m\u001b[33m\"\u001b[39m}\n\u001b[32m   2039\u001b[39m     skip = optional_kws - {*inspect.signature(meth).parameters}\n\u001b[32m-> \u001b[39m\u001b[32m2040\u001b[39m     print_method = functools.wraps(meth)(\u001b[38;5;28;01mlambda\u001b[39;00m *args, **kwargs: \u001b[43mmeth\u001b[49m\u001b[43m(\u001b[49m\n\u001b[32m   2041\u001b[39m \u001b[43m        \u001b[49m\u001b[43m*\u001b[49m\u001b[43margs\u001b[49m\u001b[43m,\u001b[49m\u001b[43m \u001b[49m\u001b[43m*\u001b[49m\u001b[43m*\u001b[49m\u001b[43m{\u001b[49m\u001b[43mk\u001b[49m\u001b[43m:\u001b[49m\u001b[43m \u001b[49m\u001b[43mv\u001b[49m\u001b[43m \u001b[49m\u001b[38;5;28;43;01mfor\u001b[39;49;00m\u001b[43m \u001b[49m\u001b[43mk\u001b[49m\u001b[43m,\u001b[49m\u001b[43m \u001b[49m\u001b[43mv\u001b[49m\u001b[43m \u001b[49m\u001b[38;5;129;43;01min\u001b[39;49;00m\u001b[43m \u001b[49m\u001b[43mkwargs\u001b[49m\u001b[43m.\u001b[49m\u001b[43mitems\u001b[49m\u001b[43m(\u001b[49m\u001b[43m)\u001b[49m\u001b[43m \u001b[49m\u001b[38;5;28;43;01mif\u001b[39;49;00m\u001b[43m \u001b[49m\u001b[43mk\u001b[49m\u001b[43m \u001b[49m\u001b[38;5;129;43;01mnot\u001b[39;49;00m\u001b[43m \u001b[49m\u001b[38;5;129;43;01min\u001b[39;49;00m\u001b[43m \u001b[49m\u001b[43mskip\u001b[49m\u001b[43m}\u001b[49m\u001b[43m)\u001b[49m)\n\u001b[32m   2042\u001b[39m \u001b[38;5;28;01melse\u001b[39;00m:  \u001b[38;5;66;03m# Let third-parties do as they see fit.\u001b[39;00m\n\u001b[32m   2043\u001b[39m     print_method = meth\n",
      "\u001b[36mFile \u001b[39m\u001b[32m/opt/anaconda3/envs/egi-jupyterlab-ext/lib/python3.13/site-packages/matplotlib/backends/backend_pdf.py:2779\u001b[39m, in \u001b[36mFigureCanvasPdf.print_pdf\u001b[39m\u001b[34m(self, filename, bbox_inches_restore, metadata)\u001b[39m\n\u001b[32m   2777\u001b[39m     file = filename._ensure_file()\n\u001b[32m   2778\u001b[39m \u001b[38;5;28;01melse\u001b[39;00m:\n\u001b[32m-> \u001b[39m\u001b[32m2779\u001b[39m     file = \u001b[43mPdfFile\u001b[49m\u001b[43m(\u001b[49m\u001b[43mfilename\u001b[49m\u001b[43m,\u001b[49m\u001b[43m \u001b[49m\u001b[43mmetadata\u001b[49m\u001b[43m=\u001b[49m\u001b[43mmetadata\u001b[49m\u001b[43m)\u001b[49m\n\u001b[32m   2780\u001b[39m \u001b[38;5;28;01mtry\u001b[39;00m:\n\u001b[32m   2781\u001b[39m     file.newPage(width, height)\n",
      "\u001b[36mFile \u001b[39m\u001b[32m/opt/anaconda3/envs/egi-jupyterlab-ext/lib/python3.13/site-packages/matplotlib/backends/backend_pdf.py:687\u001b[39m, in \u001b[36mPdfFile.__init__\u001b[39m\u001b[34m(self, filename, metadata)\u001b[39m\n\u001b[32m    685\u001b[39m \u001b[38;5;28mself\u001b[39m.original_file_like = \u001b[38;5;28;01mNone\u001b[39;00m\n\u001b[32m    686\u001b[39m \u001b[38;5;28mself\u001b[39m.tell_base = \u001b[32m0\u001b[39m\n\u001b[32m--> \u001b[39m\u001b[32m687\u001b[39m fh, opened = \u001b[43mcbook\u001b[49m\u001b[43m.\u001b[49m\u001b[43mto_filehandle\u001b[49m\u001b[43m(\u001b[49m\u001b[43mfilename\u001b[49m\u001b[43m,\u001b[49m\u001b[43m \u001b[49m\u001b[33;43m\"\u001b[39;49m\u001b[33;43mwb\u001b[39;49m\u001b[33;43m\"\u001b[39;49m\u001b[43m,\u001b[49m\u001b[43m \u001b[49m\u001b[43mreturn_opened\u001b[49m\u001b[43m=\u001b[49m\u001b[38;5;28;43;01mTrue\u001b[39;49;00m\u001b[43m)\u001b[49m\n\u001b[32m    688\u001b[39m \u001b[38;5;28;01mif\u001b[39;00m \u001b[38;5;129;01mnot\u001b[39;00m opened:\n\u001b[32m    689\u001b[39m     \u001b[38;5;28;01mtry\u001b[39;00m:\n",
      "\u001b[36mFile \u001b[39m\u001b[32m/opt/anaconda3/envs/egi-jupyterlab-ext/lib/python3.13/site-packages/matplotlib/cbook.py:546\u001b[39m, in \u001b[36mto_filehandle\u001b[39m\u001b[34m(fname, flag, return_opened, encoding)\u001b[39m\n\u001b[32m    544\u001b[39m         fh = bz2.BZ2File(fname, flag)\n\u001b[32m    545\u001b[39m     \u001b[38;5;28;01melse\u001b[39;00m:\n\u001b[32m--> \u001b[39m\u001b[32m546\u001b[39m         fh = \u001b[38;5;28;43mopen\u001b[39;49m\u001b[43m(\u001b[49m\u001b[43mfname\u001b[49m\u001b[43m,\u001b[49m\u001b[43m \u001b[49m\u001b[43mflag\u001b[49m\u001b[43m,\u001b[49m\u001b[43m \u001b[49m\u001b[43mencoding\u001b[49m\u001b[43m=\u001b[49m\u001b[43mencoding\u001b[49m\u001b[43m)\u001b[49m\n\u001b[32m    547\u001b[39m     opened = \u001b[38;5;28;01mTrue\u001b[39;00m\n\u001b[32m    548\u001b[39m \u001b[38;5;28;01melif\u001b[39;00m \u001b[38;5;28mhasattr\u001b[39m(fname, \u001b[33m'\u001b[39m\u001b[33mseek\u001b[39m\u001b[33m'\u001b[39m):\n",
      "\u001b[31mFileNotFoundError\u001b[39m: [Errno 2] No such file or directory: './plots/d1_d2/pdf/Network_RX_PDF.pdf'"
     ]
    },
    {
     "data": {
      "image/png": "[encoded data removed]",
      "text/plain": [
       "<Figure size 800x600 with 1 Axes>"
      ]
     },
     "metadata": {},
     "output_type": "display_data"
    }
   ],
   "source": [
    "plt.figure(figsize=(8, 6))\n",
    "sns.distplot(d1.Network_RX)\n",
    "sns.distplot(d2.Network_RX)\n",
    "\n",
    "plt.xlabel( r\"$\\ N_{R_x}(Kbps) $\", fontsize=24)\n",
    "plt.ylabel(r\"$\\ Density (log scale) $\", fontsize=24)\n",
    "matplotlib.rc('xtick', labelsize=20) \n",
    "matplotlib.rc('ytick', labelsize=20) \n",
    "plt.yscale('log')\n",
    "plt.legend(labels = ['D1','D2'],loc='upper right', fontsize=22)\n",
    "plt.savefig(\"./plots/d1_d2/pdf/Network_RX_PDF.pdf\", format=\"pdf\", bbox_inches=\"tight\")"
   ]
  },
  {
   "cell_type": "code",
   "execution_count": null,
   "metadata": {},
   "outputs": [],
   "source": [
    "plt.figure(figsize=(8, 6))\n",
    "sns.distplot(d1.Network_TX)\n",
    "sns.distplot(d2.Network_TX)\n",
    "\n",
    "plt.xlabel( r\"$\\ N_{T_x}(Kbps) $\", fontsize=24)\n",
    "plt.ylabel(r\"$\\ Density (log scale) $\", fontsize=24)\n",
    "matplotlib.rc('xtick', labelsize=20) \n",
    "matplotlib.rc('ytick', labelsize=20) \n",
    "plt.yscale('log')\n",
    "\n",
    "plt.legend(labels = ['D1','D2'],loc='upper right', fontsize=22)\n",
    "plt.savefig(\"./plots/d1_d2/pdf/Network_TX_PDF.pdf\", format=\"pdf\", bbox_inches=\"tight\")"
   ]
  },
  {
   "cell_type": "markdown",
   "metadata": {},
   "source": [
    "### Temperature"
   ]
  },
  {
   "cell_type": "code",
   "execution_count": null,
   "metadata": {},
   "outputs": [],
   "source": [
    "plt.figure(figsize=(8, 6))\n",
    "sns.distplot(d1.CPU1_Temperature)\n",
    "sns.distplot(d2.CPU1_Temperature)\n",
    "\n",
    "plt.xlabel( r\"$\\ T_{CPU_1}(°C) $\", fontsize=24)\n",
    "plt.ylabel(r\"$\\ Density $\", fontsize=24)\n",
    "matplotlib.rc('xtick', labelsize=20) \n",
    "matplotlib.rc('ytick', labelsize=20) \n",
    "plt.legend(labels = ['D1','D2'],loc='upper left', fontsize=22)\n",
    "plt.savefig(\"./plots/d1_d2/pdf/cpu1_temperature_pdf.pdf\", format=\"pdf\", bbox_inches=\"tight\")"
   ]
  },
  {
   "cell_type": "code",
   "execution_count": null,
   "metadata": {},
   "outputs": [],
   "source": [
    "plt.figure(figsize=(8, 6))\n",
    "sns.distplot(d1.CPU2_Temperature)\n",
    "sns.distplot(d2.CPU2_Temperature)\n",
    "\n",
    "plt.xlabel( r\"$\\ T_{CPU_2}(°C) $\", fontsize=24)\n",
    "plt.ylabel(r\"$\\ Density $\", fontsize=24)\n",
    "matplotlib.rc('xtick', labelsize=20) \n",
    "matplotlib.rc('ytick', labelsize=20) \n",
    "plt.legend(labels = ['D1','D2'],loc='upper right', fontsize=22)\n",
    "plt.savefig(\"./plots/d1_d2/pdf/cpu2_temperature_pdf.pdf\", format=\"pdf\", bbox_inches=\"tight\")"
   ]
  },
  {
   "cell_type": "markdown",
   "metadata": {},
   "source": [
    "### Ram Used"
   ]
  },
  {
   "cell_type": "code",
   "execution_count": null,
   "metadata": {},
   "outputs": [],
   "source": [
    "plt.figure(figsize=(8, 6))\n",
    "sns.distplot(d1.Ram_Used)\n",
    "sns.distplot(d2.Ram_Used)\n",
    "\n",
    "plt.xlabel( r\"$\\ R_x(GB) $\", fontsize=24)\n",
    "plt.ylabel(r\"$\\ Density $\", fontsize=24)\n",
    "matplotlib.rc('xtick', labelsize=20) \n",
    "matplotlib.rc('ytick', labelsize=20) \n",
    "plt.legend(labels = ['D1','D2'],loc='upper right', fontsize=22)\n",
    "plt.savefig(\"./plots/d1_d2/pdf/ram_used_pdf.pdf\", format=\"pdf\", bbox_inches=\"tight\")"
   ]
  },
  {
   "cell_type": "markdown",
   "metadata": {},
   "source": [
    "### No of Running VMs"
   ]
  },
  {
   "cell_type": "code",
   "execution_count": null,
   "metadata": {},
   "outputs": [],
   "source": [
    "plt.figure(figsize=(8, 6))\n",
    "sns.distplot(d1.No_Of_Running_vms)\n",
    "sns.distplot(d2.No_Of_Running_vms)\n",
    "\n",
    "plt.xlabel( r\"$\\ N_{vm} $\", fontsize=24)\n",
    "plt.ylabel(r\"$\\ Density $\", fontsize=24)\n",
    "matplotlib.rc('xtick', labelsize=20) \n",
    "matplotlib.rc('ytick', labelsize=20) \n",
    "plt.legend(labels = ['D1','D2'],loc='upper right', fontsize=22)\n",
    "plt.savefig(\"./plots/d1_d2/pdf/no_of_running_vms_pdf.pdf\", format=\"pdf\", bbox_inches=\"tight\")"
   ]
  },
  {
   "cell_type": "markdown",
   "metadata": {},
   "source": [
    "### Number of cores"
   ]
  },
  {
   "cell_type": "code",
   "execution_count": null,
   "metadata": {},
   "outputs": [],
   "source": [
    "plt.figure(figsize=(8, 6))\n",
    "sns.distplot(d1.CPU_cores_used)\n",
    "sns.distplot(d2.CPU_cores_used)\n",
    "\n",
    "plt.xlabel( r\"$\\ N_{CPU_x} $\", fontsize=24)\n",
    "plt.ylabel(r\"$\\ Density $\", fontsize=24)\n",
    "matplotlib.rc('xtick', labelsize=20) \n",
    "matplotlib.rc('ytick', labelsize=20) \n",
    "plt.legend(labels = ['D1','D2'],loc='upper right', fontsize=22)\n",
    "plt.savefig(\"./plots/d1_d2/pdf/cpu_cores_used_pdf.pdf\", format=\"pdf\", bbox_inches=\"tight\")"
   ]
  },
  {
   "cell_type": "markdown",
   "metadata": {},
   "source": [
    "### Network Rx and TX"
   ]
  },
  {
   "cell_type": "code",
   "execution_count": null,
   "metadata": {},
   "outputs": [],
   "source": [
    "plt.figure(figsize=(8, 6))\n",
    "sns.distplot(d1.Network_RX)\n",
    "sns.distplot(d2.Network_RX)\n",
    "\n",
    "plt.xlabel(  r\"$\\ N_{R_x}(Kbps)  $\", fontsize=24)\n",
    "plt.ylabel(r\"$\\ Density $\", fontsize=24)\n",
    "matplotlib.rc('xtick', labelsize=20) \n",
    "matplotlib.rc('ytick', labelsize=20) \n",
    "# plt.yscale('log')\n",
    "plt.legend(labels = ['D1','D2'],loc='upper right', fontsize=22)\n",
    "plt.savefig(\"./plots/d1_d2/pdf/network_rx_pdf.pdf\", format=\"pdf\", bbox_inches=\"tight\")"
   ]
  },
  {
   "cell_type": "code",
   "execution_count": null,
   "metadata": {},
   "outputs": [],
   "source": [
    "plt.figure(figsize=(8, 6))\n",
    "sns.distplot(d1.Network_TX)\n",
    "sns.distplot(d2.Network_TX)\n",
    "\n",
    "plt.xlabel(  r\"$\\ N_{T_x}(Kbps)  $\", fontsize=24)\n",
    "plt.ylabel(r\"$\\ Density $\", fontsize=24)\n",
    "matplotlib.rc('xtick', labelsize=20) \n",
    "matplotlib.rc('ytick', labelsize=20) \n",
    "plt.legend(labels = ['D1','D2'],loc='upper right', fontsize=22)\n",
    "plt.savefig(\"./plots/d1_d2/pdf/network_tx_pdf.pdf\", format=\"pdf\", bbox_inches=\"tight\")"
   ]
  },
  {
   "cell_type": "markdown",
   "metadata": {},
   "source": [
    "## Cumulative Distribution Function (CDF)"
   ]
  },
  {
   "cell_type": "markdown",
   "metadata": {},
   "source": [
    "### CPU"
   ]
  },
  {
   "cell_type": "code",
   "execution_count": null,
   "metadata": {},
   "outputs": [],
   "source": [
    "\n",
    "plt.figure(figsize=(8, 6))\n",
    "sns.kdeplot(data = d1['CPU_Load'], cumulative = True)\n",
    "sns.kdeplot(data = d2['CPU_Load'], cumulative = True)\n",
    "\n",
    "plt.xlabel( r\"$\\ CPU (\\%) $\", fontsize=24)\n",
    "plt.ylabel(r\"$\\ CDF $\", fontsize=24)\n",
    "# plt.margins(0.02)  # keep data off plot edges\n",
    "matplotlib.rc('xtick', labelsize=20) \n",
    "matplotlib.rc('ytick', labelsize=20)\n",
    "plt.grid(color = 'black', linestyle = '--', linewidth = 0.1)\n",
    "plt.legend(labels = ['D1','D2'],loc='lower right', fontsize=22)\n",
    "plt.savefig(\"./plots/d1_d2/cdf/cpu_load_cdf.pdf\", format=\"pdf\", bbox_inches=\"tight\")\n",
    "plt.show()"
   ]
  },
  {
   "cell_type": "code",
   "execution_count": null,
   "metadata": {},
   "outputs": [],
   "source": [
    "## CDF step\n",
    "## Note: Step plots are not used in the paper. \n",
    "plt.figure(figsize=(8, 6))\n",
    "x1 = np.sort(d1['CPU_Load'])\n",
    "y1 = np.arange(1, len(x1)+1) / len(x1)\n",
    "x2 = np.sort(d2['CPU_Load'])\n",
    "y2 = np.arange(1, len(x2)+1) / len(x2)\n",
    "plt.hist(x1, density=True, cumulative=True, label='CDF', histtype='step', linewidth = 1.5)\n",
    "plt.hist(x2, density=True, cumulative=True, label='CDF', histtype='step', linewidth = 1.5)\n",
    "\n",
    "plt.xlabel( r\"$\\ CPU (\\%) $\", fontsize=24)\n",
    "plt.ylabel(r\"$\\ CDF $\", fontsize=24)\n",
    "# plt.margins(0.02)  # keep data off plot edges\n",
    "matplotlib.rc('xtick', labelsize=20) \n",
    "matplotlib.rc('ytick', labelsize=20)\n",
    "plt.grid(color = 'black', linestyle = '--', linewidth = 0.1)\n",
    "plt.legend(labels = ['D1','D2'],loc='lower right', fontsize=22)\n",
    "plt.tight_layout()\n",
    "plt.savefig(\"./plots/d1_d2/cdf/cpu_load_cdf_step.pdf\",format=\"pdf\", bbox_inches=\"tight\")\n",
    "plt.show()"
   ]
  },
  {
   "cell_type": "markdown",
   "metadata": {},
   "source": [
    "### CPU cores used"
   ]
  },
  {
   "cell_type": "code",
   "execution_count": null,
   "metadata": {},
   "outputs": [],
   "source": [
    "plt.figure(figsize=(8, 6))\n",
    "\n",
    "sns.kdeplot(data = d1['CPU_cores_used'], cumulative = True)\n",
    "sns.kdeplot(data = d2['CPU_cores_used'], cumulative = True)\n",
    "plt.xlabel( r\"$\\ N_{CPU_x} $\", fontsize=24)\n",
    "plt.ylabel(r\"$\\ CDF $\", fontsize=24)\n",
    "plt.margins(0.02)  # keep data off plot edges\n",
    "matplotlib.rc('xtick', labelsize=20) \n",
    "matplotlib.rc('ytick', labelsize=20)\n",
    "plt.grid(color = 'black', linestyle = '--', linewidth = 0.5)\n",
    "plt.legend(labels = ['D1','D2'],loc='lower right', fontsize=22)\n",
    "plt.savefig(\"./plots/d1_d2/cdf/cpu_cores_used_cdf.pdf\",format=\"pdf\", bbox_inches=\"tight\")\n",
    "\n",
    "plt.show()"
   ]
  },
  {
   "cell_type": "code",
   "execution_count": null,
   "metadata": {},
   "outputs": [],
   "source": [
    "plt.figure(figsize=(8, 6))\n",
    "x1 = np.sort(d1['CPU_cores_used'])\n",
    "y1 = np.arange(1, len(x1)+1) / len(x1)\n",
    "x2 = np.sort(d2['CPU_cores_used'])\n",
    "y2 = np.arange(1, len(x2)+1) / len(x2)\n",
    "\n",
    "plt.hist(x1, density=True, cumulative=True, label='CDF', histtype='step', linewidth = 1.5)\n",
    "plt.hist(x2, density=True, cumulative=True, label='CDF', histtype='step', linewidth = 1.5)\n",
    "plt.xlabel( r\"$\\ N_{CPU_x} $\", fontsize=24)\n",
    "plt.ylabel(r\"$\\ CDF $\", fontsize=24)\n",
    "plt.margins(0.02)  # keep data off plot edges\n",
    "matplotlib.rc('xtick', labelsize=20) \n",
    "matplotlib.rc('ytick', labelsize=20)\n",
    "plt.grid(color = 'black', linestyle = '--', linewidth = 0.1)\n",
    "plt.legend(labels = ['D1','D2'],loc='lower right', fontsize=22)\n",
    "plt.savefig(\"./plots/d1_d2/cdf/cpu_cores_used_cdf_step.pdf\",format=\"pdf\", bbox_inches=\"tight\")\n",
    "\n",
    "plt.show()"
   ]
  },
  {
   "cell_type": "markdown",
   "metadata": {},
   "source": [
    "### Ram Used"
   ]
  },
  {
   "cell_type": "code",
   "execution_count": null,
   "metadata": {},
   "outputs": [],
   "source": [
    "plt.figure(figsize=(8, 6))\n",
    "\n",
    "sns.kdeplot(data = d1['Ram_Used'], cumulative = True)\n",
    "sns.kdeplot(data = d2['Ram_Used'], cumulative = True)\n",
    "\n",
    "plt.xlabel( r\"$\\ R_x(GB) $\", fontsize=24)\n",
    "plt.ylabel(r\"$\\ CDF $\", fontsize=24)\n",
    "matplotlib.rc('xtick', labelsize=20) \n",
    "matplotlib.rc('ytick', labelsize=20)\n",
    "plt.grid(color = 'black', linestyle = '--', linewidth = 0.5)\n",
    "plt.legend(labels = ['D1','D2'],loc='lower right', fontsize=22)\n",
    "plt.savefig(\"./plots/d1_d2/cdf/ram_used_cdf.pdf\",format=\"pdf\", bbox_inches=\"tight\")\n",
    "\n",
    "plt.show()"
   ]
  },
  {
   "cell_type": "code",
   "execution_count": null,
   "metadata": {},
   "outputs": [],
   "source": [
    "plt.figure(figsize=(8, 6))\n",
    "x1 = np.sort(d1['Ram_Used'])\n",
    "y1 = np.arange(1, len(x1)+1) / len(x1)\n",
    "x2 = np.sort(d2['Ram_Used'])\n",
    "y2 = np.arange(1, len(x2)+1) / len(x2)\n",
    "\n",
    "plt.hist(x1, density=True, cumulative=True, label='CDF', histtype='step', linewidth = 1.5)\n",
    "plt.hist(x2, density=True, cumulative=True, label='CDF', histtype='step', linewidth = 1.5)\n",
    "plt.xlabel( r\"$\\ R_x(GB) $\", fontsize=24)\n",
    "plt.ylabel(r\"$\\ CDF $\", fontsize=24)\n",
    "plt.margins(0.02)  # keep data off plot edges\n",
    "matplotlib.rc('xtick', labelsize=20) \n",
    "matplotlib.rc('ytick', labelsize=20)\n",
    "plt.grid(color = 'black', linestyle = '--', linewidth = 0.1)\n",
    "plt.legend(labels = ['D1','D2'],loc='lower right', fontsize=22)\n",
    "plt.savefig(\"./plots/d1_d2/cdf/ram_used_cdf_step.pdf\",format=\"pdf\", bbox_inches=\"tight\")\n",
    "\n",
    "plt.show()"
   ]
  },
  {
   "cell_type": "markdown",
   "metadata": {},
   "source": [
    "### Power"
   ]
  },
  {
   "cell_type": "code",
   "execution_count": null,
   "metadata": {},
   "outputs": [],
   "source": [
    "plt.figure(figsize=(8, 6))\n",
    "\n",
    "sns.kdeplot(data = d1['Power'], cumulative = True)\n",
    "sns.kdeplot(data = d2['Power'], cumulative = True)\n",
    "\n",
    "plt.xlabel( r\"$\\ P_c $\", fontsize=24)\n",
    "plt.ylabel(r\"$\\ CDF $\", fontsize=24)\n",
    "plt.margins(0.02)  # keep data off plot edges\n",
    "matplotlib.rc('xtick', labelsize=20) \n",
    "matplotlib.rc('ytick', labelsize=20)\n",
    "plt.grid(color = 'black', linestyle = '--', linewidth = 0.5)\n",
    "plt.legend(labels = ['D1','D2'],loc='upper left', fontsize=22)\n",
    "plt.savefig(\"./plots/d1_d2/cdf/power_cdf.pdf\",format=\"pdf\", bbox_inches=\"tight\")\n",
    "\n",
    "plt.show()"
   ]
  },
  {
   "cell_type": "code",
   "execution_count": null,
   "metadata": {},
   "outputs": [],
   "source": [
    "plt.figure(figsize=(8, 6))\n",
    "x1 = np.sort(d1['Power'])\n",
    "y1 = np.arange(1, len(x1)+1) / len(x1)\n",
    "x2 = np.sort(d2['Power'])\n",
    "y2 = np.arange(1, len(x2)+1) / len(x2)\n",
    "\n",
    "plt.hist(x1, density=True, cumulative=True, label='CDF', histtype='step', linewidth = 1.5)\n",
    "plt.hist(x2, density=True, cumulative=True, label='CDF', histtype='step', linewidth = 1.5)\n",
    "plt.xlabel( r\"$\\ P_c $\", fontsize=24)\n",
    "plt.ylabel(r\"$\\ CDF $\", fontsize=24)\n",
    "plt.margins(0.02)  # keep data off plot edges\n",
    "matplotlib.rc('xtick', labelsize=20) \n",
    "matplotlib.rc('ytick', labelsize=20)\n",
    "plt.grid(color = 'black', linestyle = '--', linewidth = 0.1)\n",
    "plt.legend(labels = ['D1','D2'],loc='upper left', fontsize=22)\n",
    "plt.savefig(\"./plots/d1_d2/cdf/power_cdf_step.pdf\",format=\"pdf\", bbox_inches=\"tight\")"
   ]
  },
  {
   "cell_type": "markdown",
   "metadata": {},
   "source": [
    "### CPU1 Temperature"
   ]
  },
  {
   "cell_type": "code",
   "execution_count": null,
   "metadata": {},
   "outputs": [],
   "source": [
    "plt.figure(figsize=(8, 6))\n",
    "\n",
    "sns.kdeplot(data = d1['CPU1_Temperature'], cumulative = True)\n",
    "sns.kdeplot(data = d2['CPU1_Temperature'], cumulative = True)\n",
    "\n",
    "plt.xlabel( r\"$\\ T_{CPU_1}(°C) $\", fontsize=24)\n",
    "plt.ylabel(r\"$\\ CDF $\", fontsize=24)\n",
    "plt.margins(0.02)  # keep data off plot edges\n",
    "matplotlib.rc('xtick', labelsize=20) \n",
    "matplotlib.rc('ytick', labelsize=20)\n",
    "plt.grid(color = 'black', linestyle = '--', linewidth = 0.5)\n",
    "plt.legend(labels = ['D1','D2'],loc='upper left', fontsize=22)\n",
    "plt.savefig(\"./plots/d1_d2/cdf/cpu1_temperature_cdf.pdf\",format=\"pdf\", bbox_inches=\"tight\")\n",
    "\n",
    "plt.show()"
   ]
  },
  {
   "cell_type": "code",
   "execution_count": null,
   "metadata": {},
   "outputs": [],
   "source": [
    "plt.figure(figsize=(8, 6))\n",
    "x1 = np.sort(d1['CPU1_Temperature'])\n",
    "y1 = np.arange(1, len(x1)+1) / len(x1)\n",
    "x2 = np.sort(d2['CPU1_Temperature'])\n",
    "y2 = np.arange(1, len(x2)+1) / len(x2)\n",
    "\n",
    "plt.hist(x1, density=True, cumulative=True, label='CDF', histtype='step', linewidth = 1.5)\n",
    "plt.hist(x2, density=True, cumulative=True, label='CDF', histtype='step', linewidth = 1.5)\n",
    "plt.xlabel( r\"$\\ T_{CPU_1}(°C) $\", fontsize=24)\n",
    "plt.ylabel(r\"$\\ CDF $\", fontsize=24)\n",
    "plt.margins(0.02)  # keep data off plot edges\n",
    "matplotlib.rc('xtick', labelsize=20) \n",
    "matplotlib.rc('ytick', labelsize=20)\n",
    "plt.grid(color = 'black', linestyle = '--', linewidth = 0.1)\n",
    "plt.legend(labels = ['D1','D2'],loc='upper left', fontsize=22)\n",
    "plt.savefig(\"./plots/d1_d2/cdf/cpu1_temperature_cdf_step.pdf\",format=\"pdf\", bbox_inches=\"tight\")\n",
    "\n",
    "plt.show()"
   ]
  },
  {
   "cell_type": "markdown",
   "metadata": {},
   "source": [
    "### CPU2 Temperature"
   ]
  },
  {
   "cell_type": "code",
   "execution_count": null,
   "metadata": {},
   "outputs": [],
   "source": [
    "# Note: CPU2 Temperatue plots are not described in the paper due to space limitation\n",
    "plt.figure(figsize=(8, 6))\n",
    "\n",
    "\n",
    "sns.kdeplot(data = d1['CPU2_Temperature'], cumulative = True)\n",
    "sns.kdeplot(data = d2['CPU2_Temperature'], cumulative = True)\n",
    "\n",
    "plt.xlabel( r\"$\\ T_{CPU_2}(°C) $\", fontsize=24)\n",
    "plt.ylabel(r\"$\\ CDF $\", fontsize=24)\n",
    "plt.margins(0.02)  # keep data off plot edges\n",
    "matplotlib.rc('xtick', labelsize=20) \n",
    "matplotlib.rc('ytick', labelsize=20)\n",
    "plt.grid(color = 'black', linestyle = '--', linewidth = 0.5)\n",
    "plt.legend(labels = ['D1','D2'],loc='upper left', fontsize=22)\n",
    "plt.savefig(\"./plots/d1_d2/cdf/cpu2_temperature_cdf.pdf\",format=\"pdf\", bbox_inches=\"tight\")\n",
    "plt.show()"
   ]
  },
  {
   "cell_type": "code",
   "execution_count": null,
   "metadata": {},
   "outputs": [],
   "source": [
    "plt.figure(figsize=(8, 6))\n",
    "x1 = np.sort(d1['CPU2_Temperature'])\n",
    "y1 = np.arange(1, len(x1)+1) / len(x1)\n",
    "x2 = np.sort(d2['CPU2_Temperature'])\n",
    "y2 = np.arange(1, len(x2)+1) / len(x2)\n",
    "\n",
    "plt.hist(x1, density=True, cumulative=True, label='CDF', histtype='step', linewidth = 1.5)\n",
    "plt.hist(x2, density=True, cumulative=True, label='CDF', histtype='step', linewidth = 1.5)\n",
    "plt.xlabel( r\"$\\ T_{CPU_2}(°C) $\", fontsize=24)\n",
    "plt.ylabel(r\"$\\ CDF $\", fontsize=24)\n",
    "plt.margins(0.02)  # keep data off plot edges\n",
    "matplotlib.rc('xtick', labelsize=20) \n",
    "matplotlib.rc('ytick', labelsize=20)\n",
    "plt.grid(color = 'black', linestyle = '--', linewidth = 0.1)\n",
    "plt.legend(labels = ['D1','D2'],loc='upper left', fontsize=22)\n",
    "plt.savefig(\"./plots/d1_d2/cdf/cpu2_temperature_cdf_step.pdf\",format=\"pdf\", bbox_inches=\"tight\")\n",
    "plt.show()"
   ]
  },
  {
   "cell_type": "markdown",
   "metadata": {},
   "source": [
    "### No of Running Vms"
   ]
  },
  {
   "cell_type": "code",
   "execution_count": null,
   "metadata": {},
   "outputs": [],
   "source": [
    "plt.figure(figsize=(8, 6))\n",
    "\n",
    "sns.kdeplot(data = d1['No_Of_Running_vms'], cumulative = True)\n",
    "sns.kdeplot(data = d2['No_Of_Running_vms'], cumulative = True)\n",
    "\n",
    "plt.xlabel( r\"$\\ N_{vm}  $\", fontsize=24)\n",
    "plt.ylabel(r\"$\\ CDF $\", fontsize=24)\n",
    "plt.margins(0.02)  # keep data off plot edges\n",
    "matplotlib.rc('xtick', labelsize=20) \n",
    "matplotlib.rc('ytick', labelsize=20)\n",
    "plt.grid(color = 'black', linestyle = '--', linewidth = 0.5)\n",
    "plt.legend(labels = ['D1','D2'],loc='lower right', fontsize=22)\n",
    "\n",
    "plt.savefig(\"./plots/d1_d2/cdf/no_of_running_vms_cdf.pdf\",format=\"pdf\", bbox_inches=\"tight\")\n",
    "\n",
    "plt.show()"
   ]
  },
  {
   "cell_type": "code",
   "execution_count": null,
   "metadata": {},
   "outputs": [],
   "source": [
    "plt.figure(figsize=(8, 6))\n",
    "x1 = np.sort(d1['No_Of_Running_vms'])\n",
    "y1 = np.arange(1, len(x1)+1) / len(x1)\n",
    "x2 = np.sort(d2['No_Of_Running_vms'])\n",
    "y2 = np.arange(1, len(x2)+1) / len(x2)\n",
    "\n",
    "plt.hist(x1, density=True, cumulative=True, label='CDF', histtype='step', linewidth = 1.5)\n",
    "plt.hist(x2, density=True, cumulative=True, label='CDF', histtype='step', linewidth = 1.5)\n",
    "plt.xlabel( r\"$\\ N_{vm}  $\", fontsize=24)\n",
    "plt.ylabel(r\"$\\ CDF $\", fontsize=24)\n",
    "plt.margins(0.02)  # keep data off plot edges\n",
    "matplotlib.rc('xtick', labelsize=20) \n",
    "matplotlib.rc('ytick', labelsize=20)\n",
    "plt.grid(color = 'black', linestyle = '--', linewidth = 0.1)\n",
    "plt.legend(labels = ['D1','D2'],loc='lower right', fontsize=22)\n",
    "\n",
    "plt.savefig(\"./plots/d1_d2/cdf/no_of_running_vms_cdf_step.pdf\",format=\"pdf\", bbox_inches=\"tight\")\n",
    "\n",
    "plt.show()"
   ]
  },
  {
   "cell_type": "markdown",
   "metadata": {},
   "source": [
    "### Network Rx and Tx\n",
    "Not enough distribution to show this in meaninful way"
   ]
  },
  {
   "cell_type": "code",
   "execution_count": null,
   "metadata": {},
   "outputs": [],
   "source": [
    "plt.figure(figsize=(8, 6))\n",
    "x1 = np.sort(d1['Network_TX'])\n",
    "y1 = np.arange(1, len(x1)+1) / len(x1)\n",
    "x2 = np.sort(d2['Network_TX'])\n",
    "y2 = np.arange(1, len(x2)+1) / len(x2)\n",
    "\n",
    "plt.hist(x1, density=True, cumulative=True, label='CDF', histtype='step',linewidth = 1.5)\n",
    "plt.hist(x2, density=True, cumulative=True, label='CDF', histtype='step', linewidth = 1.5)\n",
    "plt.xlabel( r\"$\\ N_{T_x}(Kbps)  $\", fontsize=24)\n",
    "plt.ylabel(r\"$\\ CDF $\", fontsize=24)\n",
    "plt.margins(0.02)  # keep data off plot edges\n",
    "matplotlib.rc('xtick', labelsize=20) \n",
    "matplotlib.rc('ytick', labelsize=20)\n",
    "plt.grid(color = 'black', linestyle = '--', linewidth = 0.1)\n",
    "plt.legend(labels = ['D1','D2'],loc='lower right', fontsize=22)\n",
    "#plt.savefig(\"CDF_Network_TX.pdf\", format=\"pdf\", bbox_inches=\"tight\")\n",
    "plt.savefig(\"./plots/d1_d2/cdf/network_tx_cdf_step.pdf\",format=\"pdf\", bbox_inches=\"tight\")\n",
    "\n",
    "plt.show()"
   ]
  },
  {
   "cell_type": "code",
   "execution_count": null,
   "metadata": {},
   "outputs": [],
   "source": [
    "plt.figure(figsize=(8, 6))\n",
    "\n",
    "sns.kdeplot(data = d1['Network_TX'], cumulative = True)\n",
    "sns.kdeplot(data = d2['Network_TX'], cumulative = True)\n",
    "\n",
    "\n",
    "plt.xlabel( r\"$\\ N_{T_x}(Kbps)  $\", fontsize=24)\n",
    "plt.ylabel(r\"$\\ CDF $\", fontsize=24)\n",
    "plt.margins(0.02)  # keep data off plot edges\n",
    "matplotlib.rc('xtick', labelsize=20) \n",
    "matplotlib.rc('ytick', labelsize=20)\n",
    "plt.grid(color = 'black', linestyle = '--', linewidth = 0.1)\n",
    "plt.legend(labels = ['D1','D2'],loc='lower right', fontsize=22)\n",
    "plt.savefig(\"./plots/d1_d2/cdf/network_tx_cdf.pdf\",format=\"pdf\", bbox_inches=\"tight\")\n",
    "\n",
    "plt.show()"
   ]
  },
  {
   "cell_type": "code",
   "execution_count": null,
   "metadata": {},
   "outputs": [],
   "source": [
    "plt.figure(figsize=(8, 6))\n",
    "x1 = np.sort(d1['Network_RX'])\n",
    "y1 = np.arange(1, len(x1)+1) / len(x1)\n",
    "x2 = np.sort(d2['Network_RX'])\n",
    "y2 = np.arange(1, len(x2)+1) / len(x2)\n",
    "\n",
    "plt.hist(x1, density=True, cumulative=True, label='CDF', histtype='step',linewidth = 1.5)\n",
    "plt.hist(x2, density=True, cumulative=True, label='CDF', histtype='step',linewidth = 1.5)\n",
    "plt.xlabel( r\"$\\ N_{R_x}(Kbps)  $\", fontsize=24)\n",
    "plt.ylabel(r\"$\\ CDF $\", fontsize=24)\n",
    "plt.margins(0.02)  # keep data off plot edges\n",
    "matplotlib.rc('xtick', labelsize=20) \n",
    "matplotlib.rc('ytick', labelsize=20)\n",
    "plt.grid(color = 'black', linestyle = '--', linewidth = 0.1)\n",
    "plt.legend(labels = ['D1','D2'],loc='lower right', fontsize=22)\n",
    "#plt.savefig(\"CDF_Network_RX.pdf\", format=\"pdf\", bbox_inches=\"tight\")\n",
    "plt.savefig(\"./plots/d1_d2/cdf/network_rx_cdf_step.pdf\",format=\"pdf\", bbox_inches=\"tight\")\n",
    "\n",
    "plt.show()"
   ]
  },
  {
   "cell_type": "code",
   "execution_count": null,
   "metadata": {},
   "outputs": [],
   "source": [
    "plt.figure(figsize=(8, 6))\n",
    "\n",
    "sns.kdeplot(data = d1['Network_RX'], cumulative = True)\n",
    "sns.kdeplot(data = d2['Network_RX'], cumulative = True)\n",
    "\n",
    "plt.xlabel( r\"$\\ N_{R_x}(Kbps)  $\", fontsize=24)\n",
    "plt.ylabel(r\"$\\ CDF $\", fontsize=24)\n",
    "plt.margins(0.02)  # keep data off plot edges\n",
    "matplotlib.rc('xtick', labelsize=20) \n",
    "matplotlib.rc('ytick', labelsize=20)\n",
    "plt.grid(color = 'black', linestyle = '--', linewidth = 0.1)\n",
    "plt.legend(labels = ['D1','D2'],loc='lower right', fontsize=22)\n",
    "plt.savefig(\"./plots/d1_d2/cdf/network_rx_cdf.pdf\",format=\"pdf\", bbox_inches=\"tight\")\n",
    "\n",
    "plt.show()"
   ]
  },
  {
   "cell_type": "markdown",
   "metadata": {},
   "source": [
    "# Statistics - Mean, max, CoV"
   ]
  },
  {
   "cell_type": "markdown",
   "metadata": {},
   "source": [
    "##  Ram used"
   ]
  },
  {
   "cell_type": "code",
   "execution_count": null,
   "metadata": {},
   "outputs": [],
   "source": [
    "dfr1 = d1[['Series','Ram_Used']]\n",
    "dfr2 = d2[['Series','Ram_Used']]\n"
   ]
  },
  {
   "cell_type": "code",
   "execution_count": null,
   "metadata": {},
   "outputs": [],
   "source": [
    "dfr1_Series = dfr1.groupby('Series')\n",
    "dfr2_Series = dfr2.groupby('Series')\n",
    "dfr1_Series.head\n",
    "dfr2_Series.head"
   ]
  },
  {
   "cell_type": "code",
   "execution_count": null,
   "metadata": {},
   "outputs": [],
   "source": [
    "dfr1_Series_stat = dfr1_Series['Ram_Used'].describe()\n",
    "dfr2_Series_stat = dfr2_Series['Ram_Used'].describe()\n"
   ]
  },
  {
   "cell_type": "code",
   "execution_count": null,
   "metadata": {},
   "outputs": [],
   "source": [
    "dfr_1=pd.DataFrame(dfr1_Series_stat)\n",
    "dfr_2=pd.DataFrame(dfr2_Series_stat)"
   ]
  },
  {
   "cell_type": "markdown",
   "metadata": {},
   "source": [
    "####  Ram used CoV"
   ]
  },
  {
   "cell_type": "code",
   "execution_count": null,
   "metadata": {},
   "outputs": [],
   "source": [
    "#Coff. Of variation\n",
    "CoVr1 = (dfr_1['std']/(dfr_1['mean']))\n",
    "CoVr2 = (dfr_2['std']/(dfr_2['mean']))"
   ]
  },
  {
   "cell_type": "code",
   "execution_count": null,
   "metadata": {},
   "outputs": [],
   "source": [
    "CoVr1.describe()"
   ]
  },
  {
   "cell_type": "code",
   "execution_count": null,
   "metadata": {},
   "outputs": [],
   "source": [
    "CoVr2.describe()"
   ]
  },
  {
   "cell_type": "code",
   "execution_count": null,
   "metadata": {},
   "outputs": [],
   "source": [
    "CoVr1.median()"
   ]
  },
  {
   "cell_type": "code",
   "execution_count": null,
   "metadata": {},
   "outputs": [],
   "source": [
    "CoVr2.median()"
   ]
  },
  {
   "cell_type": "code",
   "execution_count": null,
   "metadata": {},
   "outputs": [],
   "source": [
    "plt.xlabel( r\"$\\ Coefficient\\ Of\\ Variation $\", fontsize=18)\n",
    "plt.ylabel(r\"$\\ CDF $\", fontsize=18)\n",
    "box_style=dict(boxstyle='round', facecolor='white', alpha=0.5)\n",
    "plt.text( 1.1,0.5 , 'D1\\nmean = 0.36\\nmedian = 0.31\\nmax = 1.04\\nmin = 0.12\\nQ1 = 0.23\\nQ3 = 0.40',bbox=box_style,fontsize=14)\n",
    "matplotlib.rc('xtick', labelsize=20) \n",
    "matplotlib.rc('ytick', labelsize=20)\n",
    "plt.grid(color = 'black', linestyle = '--', linewidth = 0.1)\n",
    "sns.ecdfplot(CoVr1,linewidth=2.5, linestyle = '--', label ='D1')\n",
    "\n",
    "## d2\n",
    "box_style=dict(boxstyle='round', facecolor='white', alpha=0.5)\n",
    "plt.text(1.1,0.05,  'D2\\nmean = 0.57\\nmedian = 0.50\\nmax = 1.76\\nmin = 0.01\\nQ1 = 0.41\\nQ3 = 0.66',bbox=box_style,fontsize=14)\n",
    "sns.ecdfplot(CoVr2,linewidth=2.5, linestyle = '-', label ='D2')\n",
    "plt.legend(loc ='upper left')\n",
    "plt.tight_layout()\n",
    "\n",
    "plt.savefig(\"./plots/d1_d2/CoV/cov_ram_used_d1_d2.pdf\",format=\"pdf\", bbox_inches=\"tight\")\n",
    "plt.show()"
   ]
  },
  {
   "cell_type": "markdown",
   "metadata": {},
   "source": [
    "## CPU Load"
   ]
  },
  {
   "cell_type": "code",
   "execution_count": null,
   "metadata": {},
   "outputs": [],
   "source": [
    "dl1 = d1[['Series','CPU_Load']]\n",
    "dl2 = d2[['Series','CPU_Load']]"
   ]
  },
  {
   "cell_type": "code",
   "execution_count": null,
   "metadata": {},
   "outputs": [],
   "source": [
    "dl1_Series = dl1.groupby('Series')\n",
    "dl2_Series = dl2.groupby('Series')\n",
    "dl1_Series.head\n",
    "dl2_Series.head"
   ]
  },
  {
   "cell_type": "code",
   "execution_count": null,
   "metadata": {},
   "outputs": [],
   "source": [
    "dl1_Series_stat = dl1_Series['CPU_Load'].describe()\n",
    "dl2_Series_stat = dl2_Series['CPU_Load'].describe()"
   ]
  },
  {
   "cell_type": "code",
   "execution_count": null,
   "metadata": {},
   "outputs": [],
   "source": [
    "dl_1=pd.DataFrame(dl1_Series_stat)\n",
    "dl_2=pd.DataFrame(dl2_Series_stat)"
   ]
  },
  {
   "cell_type": "markdown",
   "metadata": {},
   "source": [
    "#### CPU Looad CoV"
   ]
  },
  {
   "cell_type": "code",
   "execution_count": null,
   "metadata": {},
   "outputs": [],
   "source": [
    "#Coff. Of variation\n",
    "CoVl1 = (dl_1['std']/(dl_1['mean']))\n",
    "CoVl2 = (dl_2['std']/(dl_2['mean']))"
   ]
  },
  {
   "cell_type": "code",
   "execution_count": null,
   "metadata": {},
   "outputs": [],
   "source": [
    "CoVl1.describe()"
   ]
  },
  {
   "cell_type": "code",
   "execution_count": null,
   "metadata": {},
   "outputs": [],
   "source": [
    "CoVl2.describe()"
   ]
  },
  {
   "cell_type": "code",
   "execution_count": null,
   "metadata": {},
   "outputs": [],
   "source": [
    "CoVl1.median()"
   ]
  },
  {
   "cell_type": "code",
   "execution_count": null,
   "metadata": {},
   "outputs": [],
   "source": [
    "CoVl2.median()"
   ]
  },
  {
   "cell_type": "code",
   "execution_count": null,
   "metadata": {},
   "outputs": [],
   "source": [
    "plt.figure(figsize=(8, 6))\n",
    "\n",
    "plt.xlabel( r\"$\\ Coefficient\\ Of\\ Variation $\", fontsize=18)\n",
    "plt.ylabel(r\"$\\ CDF $\", fontsize=18)\n",
    "box_style=dict(boxstyle='round', facecolor='white', alpha=0.5)\n",
    "plt.text( 2.1,0.05 , 'D1\\nmean = 1.18\\nmedian = 1.02\\nmax = 3.36\\nmin = 0.44\\nQ1 = 0.90\\nQ3 = 1.26',bbox=box_style,fontsize=14)\n",
    "matplotlib.rc('xtick', labelsize=20) \n",
    "matplotlib.rc('ytick', labelsize=20)\n",
    "plt.grid(color = 'black', linestyle = '--', linewidth = 0.1)\n",
    "sns.ecdfplot(CoVl1,linewidth=2.5, linestyle = '--', label ='D1')\n",
    "# plt.margins(0.2)  # keep data off plot edges\n",
    "\n",
    "#d2\n",
    "box_style=dict(boxstyle='round', facecolor='white', alpha=0.5)\n",
    "plt.text( 2.1,0.5 , 'D2\\nmean = 0.77\\nmedian = 0.62\\nmax = 3.21\\nmin = 0.13\\nQ1 = 0.53\\nQ3 = 0.91',bbox=box_style,fontsize=14)\n",
    "sns.ecdfplot(CoVl2,linewidth=2.5, linestyle = '-', label ='D2')\n",
    "plt.legend(loc= 'upper left')\n",
    "\n",
    "plt.savefig(\"./plots/d1_d2/CoV/cpu_load_cov_d1_d2.pdf\",format=\"pdf\", bbox_inches=\"tight\")\n",
    "plt.show()\n"
   ]
  },
  {
   "cell_type": "markdown",
   "metadata": {},
   "source": [
    "## Number of Cores \n"
   ]
  },
  {
   "cell_type": "code",
   "execution_count": null,
   "metadata": {},
   "outputs": [],
   "source": [
    "dp1 = d1[['Series','CPU_cores_used']]\n",
    "dp2 = d2[['Series','CPU_cores_used']]"
   ]
  },
  {
   "cell_type": "code",
   "execution_count": null,
   "metadata": {},
   "outputs": [],
   "source": [
    "dp1_Series = dp1.groupby('Series')\n",
    "dp2_Series = dp2.groupby('Series')\n",
    "dp1_Series.head\n",
    "dp2_Series.head"
   ]
  },
  {
   "cell_type": "code",
   "execution_count": null,
   "metadata": {},
   "outputs": [],
   "source": [
    "dp1_Series_stat = dp1_Series['CPU_cores_used'].describe()\n",
    "dp2_Series_stat = dp2_Series['CPU_cores_used'].describe()"
   ]
  },
  {
   "cell_type": "code",
   "execution_count": null,
   "metadata": {},
   "outputs": [],
   "source": [
    "dp_1=pd.DataFrame(dp1_Series_stat)\n",
    "dp_2=pd.DataFrame(dp2_Series_stat)\n"
   ]
  },
  {
   "cell_type": "markdown",
   "metadata": {},
   "source": [
    "### CoV Number of Cores\n"
   ]
  },
  {
   "cell_type": "code",
   "execution_count": null,
   "metadata": {},
   "outputs": [],
   "source": [
    "#Coff. Of variation\n",
    "CoVp1 = (dp_1['std']/(dp_1['mean']))\n",
    "CoVp2 = (dp_2['std']/(dp_2['mean']))"
   ]
  },
  {
   "cell_type": "code",
   "execution_count": null,
   "metadata": {},
   "outputs": [],
   "source": [
    "CoVp1.describe()"
   ]
  },
  {
   "cell_type": "code",
   "execution_count": null,
   "metadata": {},
   "outputs": [],
   "source": [
    "CoVp2.describe()"
   ]
  },
  {
   "cell_type": "code",
   "execution_count": null,
   "metadata": {},
   "outputs": [],
   "source": [
    "CoVp1.median()"
   ]
  },
  {
   "cell_type": "code",
   "execution_count": null,
   "metadata": {},
   "outputs": [],
   "source": [
    "CoVp2.median()"
   ]
  },
  {
   "cell_type": "code",
   "execution_count": null,
   "metadata": {},
   "outputs": [],
   "source": [
    "plt.figure(figsize=(8, 6))\n",
    "\n",
    "plt.xlabel( r\"$\\ Coefficient\\ Of\\ Variation $\", fontsize=18)\n",
    "plt.ylabel(r\"$\\ CDF $\", fontsize=18)\n",
    "box_style=dict(boxstyle='round', facecolor='white', alpha=0.5)\n",
    "plt.text(3, 0.45 , 'D1\\nmean = 0.31\\nmedian = 0.23\\nmax = 1.26\\nmin = 0.019\\nQ1 = 0.14\\nQ3 = 0.33',bbox=box_style,fontsize=14)\n",
    "matplotlib.rc('xtick', labelsize=20) \n",
    "matplotlib.rc('ytick', labelsize=20)\n",
    "plt.grid(color = 'black', linestyle = '--', linewidth = 0.1)\n",
    "sns.ecdfplot(CoVp1,linewidth=2.5, linestyle = '--', label='D1')\n",
    "\n",
    "#d2\n",
    "box_style=dict(boxstyle='round', facecolor='white', alpha=0.5)\n",
    "plt.text( 3, 0.1 , 'D2\\nmean = 0.77\\nmedian = 0.55\\nmax = 4.31\\nmin = 0.00\\nQ1 = 0.46\\nQ3 = 0.82',bbox=box_style,fontsize=14)\n",
    "sns.ecdfplot(CoVp2,linewidth=2.5,linestyle = '-', label ='D2' )\n",
    "plt.tight_layout()\n",
    "plt.legend(loc= 'upper left')\n",
    "plt.savefig(\"./plots/d1_d2/CoV/cpu_cores_used_cov_d1_d2.pdf\",format=\"pdf\", bbox_inches=\"tight\")\n"
   ]
  },
  {
   "cell_type": "markdown",
   "metadata": {},
   "source": [
    "## Number of VMs"
   ]
  },
  {
   "cell_type": "code",
   "execution_count": null,
   "metadata": {},
   "outputs": [],
   "source": [
    "dp1 = d1[['Series','No_Of_Running_vms']]\n",
    "dp2 = d2[['Series','No_Of_Running_vms']]"
   ]
  },
  {
   "cell_type": "code",
   "execution_count": null,
   "metadata": {},
   "outputs": [],
   "source": [
    "dp1_Series = dp1.groupby('Series')\n",
    "dp2_Series = dp2.groupby('Series')\n",
    "dp1_Series.head\n",
    "dp2_Series.head"
   ]
  },
  {
   "cell_type": "code",
   "execution_count": null,
   "metadata": {},
   "outputs": [],
   "source": [
    "dp1_Series_stat = dp1_Series['No_Of_Running_vms'].describe()\n",
    "dp2_Series_stat = dp2_Series['No_Of_Running_vms'].describe()"
   ]
  },
  {
   "cell_type": "code",
   "execution_count": null,
   "metadata": {},
   "outputs": [],
   "source": [
    "dp_1=pd.DataFrame(dp1_Series_stat)\n",
    "dp_2=pd.DataFrame(dp2_Series_stat)\n"
   ]
  },
  {
   "cell_type": "markdown",
   "metadata": {},
   "source": [
    "### CoV of Number of VMs"
   ]
  },
  {
   "cell_type": "code",
   "execution_count": null,
   "metadata": {},
   "outputs": [],
   "source": [
    "#Coff. Of variation\n",
    "CoVp1 = (dp_1['std']/(dp_1['mean']))\n",
    "CoVp2 = (dp_2['std']/(dp_2['mean']))"
   ]
  },
  {
   "cell_type": "code",
   "execution_count": null,
   "metadata": {},
   "outputs": [],
   "source": [
    "CoVp1.describe()"
   ]
  },
  {
   "cell_type": "code",
   "execution_count": null,
   "metadata": {},
   "outputs": [],
   "source": [
    "CoVp2.describe()"
   ]
  },
  {
   "cell_type": "code",
   "execution_count": null,
   "metadata": {},
   "outputs": [],
   "source": [
    "CoVp1.median()"
   ]
  },
  {
   "cell_type": "code",
   "execution_count": null,
   "metadata": {},
   "outputs": [],
   "source": [
    "CoVp2.median()"
   ]
  },
  {
   "cell_type": "code",
   "execution_count": null,
   "metadata": {},
   "outputs": [],
   "source": [
    "plt.figure(figsize=(8, 6))\n",
    "\n",
    "plt.xlabel( r\"$\\ Coefficient\\ Of\\ Variation $\", fontsize=18)\n",
    "plt.ylabel(r\"$\\ CDF $\", fontsize=18)\n",
    "box_style=dict(boxstyle='round', facecolor='white', alpha=0.5)\n",
    "plt.text(3, 0.45 , 'D1\\nmean = 0.39\\nmedian = 0.30\\nmax = 1.33\\nmin = 0.036\\nQ1 = 0.18\\nQ3 = 0.51',bbox=box_style,fontsize=14)\n",
    "matplotlib.rc('xtick', labelsize=20) \n",
    "matplotlib.rc('ytick', labelsize=20)\n",
    "plt.grid(color = 'black', linestyle = '--', linewidth = 0.1)\n",
    "sns.ecdfplot(CoVp1,linewidth=2.5, linestyle = '--', label='D1')\n",
    "#d2\n",
    "box_style=dict(boxstyle='round', facecolor='white', alpha=0.5)\n",
    "plt.text( 3, 0.1 , 'D2\\nmean = 0.73\\nmedian = 0.53\\nmax = 4.28\\nmin = 0.00\\nQ1 = 0.46\\nQ3 = 0.80',bbox=box_style,fontsize=14)\n",
    "sns.ecdfplot(CoVp2,linewidth=2.5,linestyle = '-', label ='D2' )\n",
    "plt.tight_layout()\n",
    "plt.legend(loc= 'upper left')\n",
    "plt.savefig(\"./plots/d1_d2/CoV/no_of_running_vms_mean_max_cov_d1_d2.pdf\",format=\"pdf\", bbox_inches=\"tight\")\n"
   ]
  },
  {
   "cell_type": "markdown",
   "metadata": {},
   "source": [
    "### Network RX and TX "
   ]
  },
  {
   "cell_type": "code",
   "execution_count": null,
   "metadata": {},
   "outputs": [],
   "source": [
    "dp1 = d1[['Series','Network_RX']]\n",
    "dp2 = d2[['Series','Network_RX']]"
   ]
  },
  {
   "cell_type": "code",
   "execution_count": null,
   "metadata": {},
   "outputs": [],
   "source": [
    "dp1_Series = dp1.groupby('Series')\n",
    "dp2_Series = dp2.groupby('Series')\n",
    "dp1_Series.head\n",
    "dp2_Series.head"
   ]
  },
  {
   "cell_type": "code",
   "execution_count": null,
   "metadata": {},
   "outputs": [],
   "source": [
    "dp1_Series_stat = dp1_Series['Network_RX'].describe()\n",
    "dp2_Series_stat = dp2_Series['Network_RX'].describe()"
   ]
  },
  {
   "cell_type": "code",
   "execution_count": null,
   "metadata": {},
   "outputs": [],
   "source": [
    "dp_1=pd.DataFrame(dp1_Series_stat)\n",
    "dp_2=pd.DataFrame(dp2_Series_stat)\n"
   ]
  },
  {
   "cell_type": "markdown",
   "metadata": {},
   "source": [
    "#### network rx cov"
   ]
  },
  {
   "cell_type": "code",
   "execution_count": null,
   "metadata": {},
   "outputs": [],
   "source": [
    "#Coff. Of variation\n",
    "CoVp1 = (dp_1['std']/(dp_1['mean']))\n",
    "CoVp2 = (dp_2['std']/(dp_2['mean']))"
   ]
  },
  {
   "cell_type": "code",
   "execution_count": null,
   "metadata": {},
   "outputs": [],
   "source": [
    "CoVp1.describe()"
   ]
  },
  {
   "cell_type": "code",
   "execution_count": null,
   "metadata": {},
   "outputs": [],
   "source": [
    "CoVp2.describe()"
   ]
  },
  {
   "cell_type": "code",
   "execution_count": null,
   "metadata": {},
   "outputs": [],
   "source": [
    "CoVp1.median()"
   ]
  },
  {
   "cell_type": "code",
   "execution_count": null,
   "metadata": {},
   "outputs": [],
   "source": [
    "CoVp2.median()"
   ]
  },
  {
   "cell_type": "code",
   "execution_count": null,
   "metadata": {},
   "outputs": [],
   "source": [
    "plt.figure(figsize=(8, 6))\n",
    "\n",
    "plt.xlabel( r\"$\\ Coefficient\\ Of\\ Variation $\", fontsize=18)\n",
    "plt.ylabel(r\"$\\ CDF $\", fontsize=18)\n",
    "box_style=dict(boxstyle='round', facecolor='white', alpha=0.5)\n",
    "plt.text(13, 0.45 , 'D1\\nmean = 5.5\\nmedian = 4.49\\nmax = 18.00\\nmin = 1.97\\nQ1 = 3.29\\nQ3 = 6.28',bbox=box_style,fontsize=14)\n",
    "\n",
    "\n",
    "matplotlib.rc('xtick', labelsize=20) \n",
    "matplotlib.rc('ytick', labelsize=20)\n",
    "plt.grid(color = 'black', linestyle = '--', linewidth = 0.1)\n",
    "sns.ecdfplot(CoVp1,linewidth=2.5, linestyle = '--', label='D1')\n",
    "\n",
    "#d2\n",
    "box_style=dict(boxstyle='round', facecolor='white', alpha=0.5)\n",
    "plt.text( 13, 0.1 , 'D2\\nmean = 4.8\\nmedian = 3.87\\nmax = 20.60\\nmin = 1.99\\nQ1 = 3.05\\nQ3 = 4.74',bbox=box_style,fontsize=14)\n",
    "\n",
    "\n",
    "sns.ecdfplot(CoVp2,linewidth=2.5,linestyle = '-', label ='D2' )\n",
    "plt.tight_layout()\n",
    "plt.legend(loc= 'upper left')\n",
    "plt.savefig(\"./plots/d1_d2/CoV/network_rx_cov_d1_d2.pdf\",format=\"pdf\", bbox_inches=\"tight\")\n"
   ]
  },
  {
   "cell_type": "markdown",
   "metadata": {},
   "source": [
    "#### network_tx"
   ]
  },
  {
   "cell_type": "code",
   "execution_count": null,
   "metadata": {},
   "outputs": [],
   "source": [
    "dp1 = d1[['Series','Network_TX']]\n",
    "dp2 = d2[['Series','Network_TX']]\n"
   ]
  },
  {
   "cell_type": "code",
   "execution_count": null,
   "metadata": {},
   "outputs": [],
   "source": [
    "dp1_Series = dp1.groupby('Series')\n",
    "dp2_Series = dp2.groupby('Series')\n",
    "dp1_Series.head\n",
    "dp2_Series.head"
   ]
  },
  {
   "cell_type": "code",
   "execution_count": null,
   "metadata": {},
   "outputs": [],
   "source": [
    "dp1_Series_stat = dp1_Series['Network_TX'].describe()\n",
    "dp2_Series_stat = dp2_Series['Network_TX'].describe()"
   ]
  },
  {
   "cell_type": "code",
   "execution_count": null,
   "metadata": {},
   "outputs": [],
   "source": [
    "dp_1=pd.DataFrame(dp1_Series_stat)\n",
    "dp_2=pd.DataFrame(dp2_Series_stat)\n"
   ]
  },
  {
   "cell_type": "markdown",
   "metadata": {},
   "source": [
    "#### network tx cov"
   ]
  },
  {
   "cell_type": "code",
   "execution_count": null,
   "metadata": {},
   "outputs": [],
   "source": [
    "#Coff. Of variation\n",
    "CoVp1 = (dp_1['std']/(dp_1['mean']))\n",
    "CoVp2 = (dp_2['std']/(dp_2['mean']))"
   ]
  },
  {
   "cell_type": "code",
   "execution_count": null,
   "metadata": {},
   "outputs": [],
   "source": [
    "CoVp1.describe()"
   ]
  },
  {
   "cell_type": "code",
   "execution_count": null,
   "metadata": {},
   "outputs": [],
   "source": [
    "CoVp2.describe()"
   ]
  },
  {
   "cell_type": "code",
   "execution_count": null,
   "metadata": {},
   "outputs": [],
   "source": [
    "CoVp1.median()"
   ]
  },
  {
   "cell_type": "code",
   "execution_count": null,
   "metadata": {},
   "outputs": [],
   "source": [
    "CoVp2.median()"
   ]
  },
  {
   "cell_type": "code",
   "execution_count": null,
   "metadata": {},
   "outputs": [],
   "source": [
    "plt.figure(figsize=(8, 6))\n",
    "plt.xlabel( r\"$\\ Coefficient\\ Of\\ Variation $\", fontsize=18)\n",
    "plt.ylabel(r\"$\\ CDF $\", fontsize=18)\n",
    "box_style=dict(boxstyle='round', facecolor='white', alpha=0.5)\n",
    "plt.text(15, 0.45 , 'D1\\nmean = 5.03\\nmedian = 3.93\\nmax = 18.10\\nmin = 1.81\\nQ1 = 3.28\\nQ3 = 6.03',bbox=box_style,fontsize=14)\n",
    "\n",
    "matplotlib.rc('xtick', labelsize=20) \n",
    "matplotlib.rc('ytick', labelsize=20)\n",
    "plt.grid(color = 'black', linestyle = '--', linewidth = 0.1)\n",
    "sns.ecdfplot(CoVp1,linewidth=2.5, linestyle = '--', label='D1')\n",
    "#d2\n",
    "box_style=dict(boxstyle='round', facecolor='white', alpha=0.5)\n",
    "plt.text( 15, 0.1 , 'D2\\nmean = 3.93\\nmedian = 3.19\\nmax = 27.87\\nmin = 1.49\\nQ1 = 2.39\\nQ3 = 3.95',bbox=box_style,fontsize=14)\n",
    "\n",
    "sns.ecdfplot(CoVp2,linewidth=2.5,linestyle = '-', label ='D2' )\n",
    "plt.tight_layout()\n",
    "plt.legend(loc= 'upper left')\n",
    "plt.savefig(\"./plots/d1_d2/CoV/network_tx_cov_d1_d2.pdf\",format=\"pdf\", bbox_inches=\"tight\")\n"
   ]
  },
  {
   "cell_type": "markdown",
   "metadata": {},
   "source": [
    "## Power\n"
   ]
  },
  {
   "cell_type": "code",
   "execution_count": null,
   "metadata": {},
   "outputs": [],
   "source": [
    "dp1 = d1[['Series','Power']]\n",
    "dp2 = d2[['Series','Power']]"
   ]
  },
  {
   "cell_type": "code",
   "execution_count": null,
   "metadata": {},
   "outputs": [],
   "source": [
    "dp1_Series = dp1.groupby('Series')\n",
    "dp2_Series = dp2.groupby('Series')\n",
    "dp1_Series.head\n",
    "dp2_Series.head"
   ]
  },
  {
   "cell_type": "code",
   "execution_count": null,
   "metadata": {},
   "outputs": [],
   "source": [
    "dp1_Series_stat = dp1_Series['Power'].describe()\n",
    "dp2_Series_stat = dp2_Series['Power'].describe()"
   ]
  },
  {
   "cell_type": "code",
   "execution_count": null,
   "metadata": {},
   "outputs": [],
   "source": [
    "dp_1=pd.DataFrame(dp1_Series_stat)\n",
    "dp_2=pd.DataFrame(dp2_Series_stat)\n"
   ]
  },
  {
   "cell_type": "markdown",
   "metadata": {},
   "source": [
    "#### Power CoV"
   ]
  },
  {
   "cell_type": "code",
   "execution_count": null,
   "metadata": {},
   "outputs": [],
   "source": [
    "#Coff. Of variation\n",
    "CoVp1 = (dp_1['std']/(dp_1['mean']))\n",
    "CoVp2 = (dp_2['std']/(dp_2['mean']))"
   ]
  },
  {
   "cell_type": "code",
   "execution_count": null,
   "metadata": {},
   "outputs": [],
   "source": [
    "CoVp1.describe()"
   ]
  },
  {
   "cell_type": "code",
   "execution_count": null,
   "metadata": {},
   "outputs": [],
   "source": [
    "CoVp2.describe()"
   ]
  },
  {
   "cell_type": "code",
   "execution_count": null,
   "metadata": {},
   "outputs": [],
   "source": [
    "CoVp1.median()"
   ]
  },
  {
   "cell_type": "code",
   "execution_count": null,
   "metadata": {},
   "outputs": [],
   "source": [
    "CoVp2.median()"
   ]
  },
  {
   "cell_type": "code",
   "execution_count": null,
   "metadata": {},
   "outputs": [],
   "source": [
    "plt.figure(figsize=(8, 6))\n",
    "\n",
    "plt.xlabel( r\"$\\ Coefficient\\ Of\\ Variation $\", fontsize=18)\n",
    "plt.ylabel(r\"$\\ CDF $\", fontsize=18)\n",
    "box_style=dict(boxstyle='round', facecolor='white', alpha=0.5)\n",
    "plt.text(0.3, 0.45 , 'D1\\nmean = 0.24\\nmedian = 0.25\\nmax = 0.37\\nmin = 0.002\\nQ1 = 0.19\\nQ3 = 0.29',bbox=box_style,fontsize=14)\n",
    "matplotlib.rc('xtick', labelsize=20) \n",
    "matplotlib.rc('ytick', labelsize=20)\n",
    "plt.grid(color = 'black', linestyle = '--', linewidth = 0.1)\n",
    "sns.ecdfplot(CoVp1,linewidth=2.5, linestyle = '--', label='D1')\n",
    "#d2\n",
    "box_style=dict(boxstyle='round', facecolor='white', alpha=0.5)\n",
    "plt.text( 0.3, 0.1 , 'D2\\nmean = 0.16\\nmedian = 0.18\\nmax = 0.31\\nmin = 0.007\\nQ1 = 0.14\\nQ3 = 0.18',bbox=box_style,fontsize=14)\n",
    "sns.ecdfplot(CoVp2,linewidth=2.5,linestyle = '-', label ='D2' )\n",
    "plt.tight_layout()\n",
    "plt.legend(loc= 'upper left')\n",
    "plt.savefig(\"./plots/d1_d2/CoV/power_cov_d1_d2.pdf\",format=\"pdf\", bbox_inches=\"tight\")\n"
   ]
  },
  {
   "cell_type": "markdown",
   "metadata": {},
   "source": [
    "#### Temperature CoV\n"
   ]
  },
  {
   "cell_type": "markdown",
   "metadata": {},
   "source": [
    "CPU1"
   ]
  },
  {
   "cell_type": "code",
   "execution_count": null,
   "metadata": {},
   "outputs": [],
   "source": [
    "dp1 = d1[['Series','CPU1_Temperature']]\n",
    "dp2 = d2[['Series','CPU1_Temperature']]\n",
    "\n",
    "dp1_Series = dp1.groupby('Series')\n",
    "dp2_Series = dp2.groupby('Series')\n",
    "dp1_Series.head\n",
    "dp2_Series.head\n",
    "\n",
    "dp1_Series_stat = dp1_Series['CPU1_Temperature'].describe()\n",
    "dp2_Series_stat = dp2_Series['CPU1_Temperature'].describe()\n",
    "\n",
    "dp_1=pd.DataFrame(dp1_Series_stat)\n",
    "dp_2=pd.DataFrame(dp2_Series_stat)\n"
   ]
  },
  {
   "cell_type": "code",
   "execution_count": null,
   "metadata": {},
   "outputs": [],
   "source": [
    "#Coff. Of variation\n",
    "CoVp1 = (dp_1['std']/(dp_1['mean']))\n",
    "CoVp2 = (dp_2['std']/(dp_2['mean']))"
   ]
  },
  {
   "cell_type": "code",
   "execution_count": null,
   "metadata": {},
   "outputs": [],
   "source": [
    "CoVp1.describe()"
   ]
  },
  {
   "cell_type": "code",
   "execution_count": null,
   "metadata": {},
   "outputs": [],
   "source": [
    "CoVp2.describe()"
   ]
  },
  {
   "cell_type": "code",
   "execution_count": null,
   "metadata": {},
   "outputs": [],
   "source": [
    "CoVp1.median()"
   ]
  },
  {
   "cell_type": "code",
   "execution_count": null,
   "metadata": {},
   "outputs": [],
   "source": [
    "CoVp2.median()"
   ]
  },
  {
   "cell_type": "code",
   "execution_count": null,
   "metadata": {},
   "outputs": [],
   "source": [
    "plt.figure(figsize=(8, 6))\n",
    "\n",
    "plt.xlabel( r\"$\\ Coefficient\\ Of\\ Variation $\", fontsize=18)\n",
    "plt.ylabel(r\"$\\ CDF $\", fontsize=18)\n",
    "box_style=dict(boxstyle='round', facecolor='white', alpha=0.5)\n",
    "plt.text(0.2, 0.45, 'D1\\nmean = 0.13\\nmedian = 0.14\\nmax = 0.23\\nmin = 0.015\\nQ1 = 0.10\\nQ3 = 0.17',bbox=box_style,fontsize=14)\n",
    "matplotlib.rc('xtick', labelsize=20) \n",
    "matplotlib.rc('ytick', labelsize=20)\n",
    "plt.grid(color = 'black', linestyle = '--', linewidth = 0.1)\n",
    "sns.ecdfplot(CoVp1,linewidth=2.5, linestyle = '--', label='D1')\n",
    "\n",
    "#d2\n",
    "box_style=dict(boxstyle='round', facecolor='white', alpha=0.5)\n",
    "plt.text( 0.2, 0.1 , 'D2\\nmean = 0.14\\nmedian = 0.14\\nmax = 0.28\\nmin = 0.05\\nQ1 = 0.11\\nQ3 = 0.15',bbox=box_style,fontsize=14)\n",
    "sns.ecdfplot(CoVp2,linewidth=2.5,linestyle = '-', label ='D2' )\n",
    "plt.tight_layout()\n",
    "plt.legend(loc= 'upper left')\n",
    "plt.savefig(\"./plots/d1_d2/CoV/cpu1_temperature_cov_d1_d2.pdf\",format=\"pdf\", bbox_inches=\"tight\")"
   ]
  },
  {
   "cell_type": "markdown",
   "metadata": {},
   "source": [
    "CPU2"
   ]
  },
  {
   "cell_type": "code",
   "execution_count": null,
   "metadata": {},
   "outputs": [],
   "source": [
    "dp1 = d1[['Series','CPU2_Temperature']]\n",
    "dp2 = d2[['Series','CPU2_Temperature']]\n",
    "\n",
    "dp1_Series = dp1.groupby('Series')\n",
    "dp2_Series = dp2.groupby('Series')\n",
    "dp1_Series.head\n",
    "dp2_Series.head\n",
    "\n",
    "dp1_Series_stat = dp1_Series['CPU2_Temperature'].describe()\n",
    "dp2_Series_stat = dp2_Series['CPU2_Temperature'].describe()\n",
    "\n",
    "dp_1=pd.DataFrame(dp1_Series_stat)\n",
    "dp_2=pd.DataFrame(dp2_Series_stat)\n"
   ]
  },
  {
   "cell_type": "code",
   "execution_count": null,
   "metadata": {},
   "outputs": [],
   "source": [
    "#Coff. Of variation\n",
    "CoVp1 = (dp_1['std']/(dp_1['mean']))\n",
    "CoVp2 = (dp_2['std']/(dp_2['mean']))"
   ]
  },
  {
   "cell_type": "code",
   "execution_count": null,
   "metadata": {},
   "outputs": [],
   "source": [
    "CoVp1.describe()"
   ]
  },
  {
   "cell_type": "code",
   "execution_count": null,
   "metadata": {},
   "outputs": [],
   "source": [
    "CoVp2.describe()"
   ]
  },
  {
   "cell_type": "code",
   "execution_count": null,
   "metadata": {},
   "outputs": [],
   "source": [
    "CoVp1.median()"
   ]
  },
  {
   "cell_type": "code",
   "execution_count": null,
   "metadata": {},
   "outputs": [],
   "source": [
    "CoVp2.median()"
   ]
  },
  {
   "cell_type": "code",
   "execution_count": null,
   "metadata": {},
   "outputs": [],
   "source": [
    "plt.figure(figsize=(8, 6))\n",
    "\n",
    "plt.xlabel( r\"$\\ Coefficient\\ Of\\ Variation $\", fontsize=18)\n",
    "plt.ylabel(r\"$\\ CDF $\", fontsize=18)\n",
    "box_style=dict(boxstyle='round', facecolor='white', alpha=0.5)\n",
    "plt.text(0.2, 0.45, 'D1\\nmean = 0.12\\nmedian = 0.12\\nmax = 0.23\\nmin = 0.018\\nQ1 = 0.09\\nQ3 = 0.15',bbox=box_style,fontsize=14)\n",
    "matplotlib.rc('xtick', labelsize=20) \n",
    "matplotlib.rc('ytick', labelsize=20)\n",
    "plt.grid(color = 'black', linestyle = '--', linewidth = 0.1)\n",
    "sns.ecdfplot(CoVp1,linewidth=2.5, linestyle = '--', label='D1')\n",
    "#d2\n",
    "box_style=dict(boxstyle='round', facecolor='white', alpha=0.5)\n",
    "plt.text( 0.2, 0.1 , 'D2\\nmean = 0.14\\nmedian = 0.14\\nmax = 0.27\\nmin = 0.043\\nQ1 = 0.12\\nQ3 = 0.16',bbox=box_style,fontsize=14)\n",
    "sns.ecdfplot(CoVp2,linewidth=2.5,linestyle = '-', label ='D2' )\n",
    "plt.tight_layout()\n",
    "plt.legend(loc= 'upper left')\n",
    "plt.savefig(\"./plots/d1_d2/CoV/cpu2_temperature_cov_d1_d2.pdf\",format=\"pdf\", bbox_inches=\"tight\")"
   ]
  },
  {
   "cell_type": "markdown",
   "metadata": {},
   "source": [
    "# Basic and peak-to-mean statistics"
   ]
  },
  {
   "cell_type": "code",
   "execution_count": null,
   "metadata": {},
   "outputs": [],
   "source": [
    "\n",
    "d1.describe().apply(lambda s: s.apply('{0:.5f}'.format))\n",
    "d2.describe().apply(lambda s: s.apply('{0:.5f}'.format))"
   ]
  },
  {
   "cell_type": "markdown",
   "metadata": {},
   "source": [
    "#### No of Running VMs\n"
   ]
  },
  {
   "cell_type": "code",
   "execution_count": null,
   "metadata": {},
   "outputs": [],
   "source": [
    "machine_ids= d1.Series.unique()\n",
    "totalVms= 0\n",
    "for id in machine_ids:\n",
    "      df = d1[d1['Series'] == id] \n",
    "      avg_vms= df['No_Of_Running_vms'].mean()\n",
    "      print(\"{},{}\".format(id, avg_vms ))\n",
    "      totalVms += avg_vms\n",
    "      # print(df['Series'])\n",
    "print (\" Total VMs D1 = {}\".format(totalVms))"
   ]
  },
  {
   "cell_type": "code",
   "execution_count": null,
   "metadata": {},
   "outputs": [],
   "source": [
    "machine_ids= d2.Series.unique()\n",
    "totalVms= 0\n",
    "total_cores=0 \n",
    "total_ram =0 \n",
    "for id in machine_ids:\n",
    "      df = d2[d2['Series'] == id] \n",
    "      avg_vms= df['No_Of_Running_vms'].mean()\n",
    "      cpu_cores = df['CPU_cores'].mean()\n",
    "      ram = df['Ram'].mean()\n",
    "      print(\"id: {}, vms: {}  cores: {}  ram: {}\".format(id, avg_vms, cpu_cores, ram ))\n",
    "      totalVms += avg_vms\n",
    "      total_cores += cpu_cores\n",
    "      total_ram += ram\n",
    "\n",
    "      # print(df['Series'])\n",
    "print (\" D2: Total Vms = {}, cores = {} Ram = {}\".format(totalVms, total_cores, total_ram))"
   ]
  },
  {
   "cell_type": "code",
   "execution_count": null,
   "metadata": {},
   "outputs": [],
   "source": [
    "# resample atp hourly average\n",
    "d1['Time'] = pd.to_datetime(d1['Time']) # convert the date column to datetime\n",
    "d2['Time'] = pd.to_datetime(d2['Time']) # convert the date column to datetime\n",
    "d1 = d1.set_index('Time')\n",
    "d2 = d2.set_index('Time')\n",
    "\n",
    "hour1_mean=d1.drop(columns=['Series']).resample('H').mean()\n",
    "hour2_mean=d2.drop(columns=['Series']).resample('H').mean()"
   ]
  },
  {
   "cell_type": "code",
   "execution_count": null,
   "metadata": {},
   "outputs": [],
   "source": [
    "hour1_mean.describe()\n",
    "hour2_mean.describe()"
   ]
  },
  {
   "cell_type": "code",
   "execution_count": null,
   "metadata": {},
   "outputs": [],
   "source": [
    "d1_mean=pd.DataFrame(hour1_mean)\n",
    "d2_mean=pd.DataFrame(hour2_mean)"
   ]
  },
  {
   "cell_type": "code",
   "execution_count": null,
   "metadata": {},
   "outputs": [],
   "source": [
    "hour1_max=d1.resample('H').max() ## -\n",
    "hour2_max=d2.resample('H').max()\n",
    "\n",
    "hour1_min=d1.resample('H').min() ## -\n",
    "hour2_min=d2.resample('H').min()"
   ]
  },
  {
   "cell_type": "code",
   "execution_count": null,
   "metadata": {},
   "outputs": [],
   "source": [
    "d1_max=pd.DataFrame(hour1_max)\n",
    "d2_max=pd.DataFrame(hour2_max)\n",
    "\n",
    "d1_min=pd.DataFrame(hour1_min)\n",
    "d2_min=pd.DataFrame(hour2_min)"
   ]
  },
  {
   "cell_type": "markdown",
   "metadata": {},
   "source": [
    "#### Power"
   ]
  },
  {
   "cell_type": "code",
   "execution_count": null,
   "metadata": {},
   "outputs": [],
   "source": [
    "d1_min"
   ]
  },
  {
   "cell_type": "markdown",
   "metadata": {},
   "source": [
    "#### Peak-to-mean (hourly) ratio stats"
   ]
  },
  {
   "cell_type": "code",
   "execution_count": null,
   "metadata": {},
   "outputs": [],
   "source": [
    "peak_to_mean1= d1_max['CPU_Load']/d1_mean['CPU_Load']\n",
    "peak_to_mean2= d2_max['CPU_Load']/d2_mean['CPU_Load']\n",
    "print (\"D1:{} D2:{}\".format(peak_to_mean1.mean(), peak_to_mean2.mean()))"
   ]
  },
  {
   "cell_type": "code",
   "execution_count": null,
   "metadata": {},
   "outputs": [],
   "source": [
    "peak_to_mean1= d1_max['Ram_Used']/d1_mean['Ram_Used']\n",
    "peak_to_mean2= d2_max['Ram_Used']/d2_mean['Ram_Used']\n",
    "print (\"D1:{} D2:{}\".format(peak_to_mean1.mean(), peak_to_mean2.mean()))"
   ]
  },
  {
   "cell_type": "code",
   "execution_count": null,
   "metadata": {},
   "outputs": [],
   "source": [
    "peak_to_mean1= d1_max['No_Of_Running_vms']/d1_mean['No_Of_Running_vms']\n",
    "peak_to_mean2= d2_max['No_Of_Running_vms']/d2_mean['No_Of_Running_vms']\n",
    "print (\"D1:{} D2:{}\".format(peak_to_mean1.mean(), peak_to_mean2.mean()))"
   ]
  },
  {
   "cell_type": "code",
   "execution_count": null,
   "metadata": {},
   "outputs": [],
   "source": [
    "peak_to_mean1= d1_max['CPU_cores_used']/d1_mean['CPU_cores_used']\n",
    "peak_to_mean2= d2_max['CPU_cores_used']/d2_mean['CPU_cores_used']\n",
    "print (\"D1:{} D2:{}\".format(peak_to_mean1.mean(), peak_to_mean2.mean()))"
   ]
  },
  {
   "cell_type": "code",
   "execution_count": null,
   "metadata": {},
   "outputs": [],
   "source": [
    "peak_to_mean1= d1_max['Network_TX']/d1_mean['Network_TX']\n",
    "peak_to_mean2= d2_max['Network_TX']/d2_mean['Network_TX']\n",
    "print (\"D1:{} D2:{}\".format(peak_to_mean1.mean(), peak_to_mean2.mean()))"
   ]
  },
  {
   "cell_type": "code",
   "execution_count": null,
   "metadata": {},
   "outputs": [],
   "source": [
    "peak_to_mean1= d1_max['Network_RX']/d1_mean['Network_RX']\n",
    "peak_to_mean2= d2_max['Network_RX']/d2_mean['Network_RX']\n",
    "print (\"D1:{} D2:{}\".format(peak_to_mean1.mean(), peak_to_mean2.mean()))"
   ]
  },
  {
   "cell_type": "code",
   "execution_count": null,
   "metadata": {},
   "outputs": [],
   "source": [
    "peak_to_mean1= d1_max['Power']/d1_mean['Power']\n",
    "peak_to_mean2= d2_max['Power']/d2_mean['Power']\n",
    "print (\"D1:{} D2:{}\".format(peak_to_mean1.mean(), peak_to_mean2.mean()))"
   ]
  },
  {
   "cell_type": "code",
   "execution_count": null,
   "metadata": {},
   "outputs": [],
   "source": [
    "peak_to_mean1= d1_max['CPU1_Temperature']/d1_mean['CPU1_Temperature']\n",
    "peak_to_mean2= d2_max['CPU1_Temperature']/d2_mean['CPU1_Temperature']\n",
    "print (\"D1:{} D2:{}\".format(peak_to_mean1.mean(), peak_to_mean2.mean()))"
   ]
  },
  {
   "cell_type": "code",
   "execution_count": null,
   "metadata": {},
   "outputs": [],
   "source": [
    "peak_to_mean1= d1_max['CPU2_Temperature']/d1_mean['CPU2_Temperature']\n",
    "peak_to_mean2= d2_max['CPU2_Temperature']/d2_mean['CPU2_Temperature']\n",
    "print (\"D1:{} D2:{}\".format(peak_to_mean1.mean(), peak_to_mean2.mean()))"
   ]
  },
  {
   "cell_type": "markdown",
   "metadata": {},
   "source": [
    "## Temporal Analysis Graphs (usgae over time)"
   ]
  },
  {
   "cell_type": "code",
   "execution_count": null,
   "metadata": {},
   "outputs": [],
   "source": [
    "from matplotlib.dates import DateFormatter\n",
    "from matplotlib.ticker import (MultipleLocator, FormatStrFormatter,\n",
    "                               AutoMinorLocator)\n",
    "import matplotlib.dates as mdates\n"
   ]
  },
  {
   "cell_type": "markdown",
   "metadata": {},
   "source": [
    "### Power"
   ]
  },
  {
   "cell_type": "code",
   "execution_count": null,
   "metadata": {},
   "outputs": [],
   "source": [
    "plt.figure(figsize=(20, 8))\n",
    "p_mean = d1_mean['Power']\n",
    "p_max = d1_max['Power']\n",
    "p_ratio = d1_max['Power']/d1_mean['Power']\n",
    "p_min= d1_min['Power']\n",
    "\n",
    "plt.xlabel( r\"$\\ Time $\", fontsize=24)\n",
    "plt.ylabel(r\"$\\ P_c $\", fontsize=24)\n",
    "plt.plot(p_mean,label='mean', lw=2)\n",
    "plt.plot(p_max,label='max', lw=2)\n",
    "plt.plot(p_min,label='min', lw=2)\n",
    "plt.legend(labels = ['mean','max','min'],fontsize=18)\n",
    "plt.savefig(\"./plots/d1_d2/usage_time/power_time_d1.pdf\",format=\"pdf\", bbox_inches=\"tight\")"
   ]
  },
  {
   "cell_type": "code",
   "execution_count": null,
   "metadata": {},
   "outputs": [],
   "source": [
    "plt.figure(figsize=(20, 8))\n",
    "date_form = DateFormatter(\"%Y-%m\")\n",
    "plt.gca().xaxis.set_major_formatter(date_form) \n",
    "\n",
    "plt.gca().xaxis.set_major_locator(mdates.MonthLocator(interval=1))\n",
    "p_mean2 = d2_mean['Power']\n",
    "p_max2 = d2_max['Power']\n",
    "p_min2= d2_min['Power']\n",
    "plt.xlabel( r\"$\\ Time $\", fontsize=24)\n",
    "plt.ylabel(r\"$\\ P_c $\", fontsize=24)\n",
    "plt.plot(p_mean2,label='mean', lw=2)\n",
    "plt.plot(p_max2,label='max', lw=2)\n",
    "plt.plot(p_min2,label='min', lw=2)\n",
    "plt.legend(labels = ['mean','max','min'],fontsize=18, loc= 'upper right')\n",
    "plt.savefig(\"./plots/d1_d2/usage_time/power_time_d2.pdf\",format=\"pdf\", bbox_inches=\"tight\")"
   ]
  },
  {
   "cell_type": "markdown",
   "metadata": {},
   "source": [
    "#### CPU Load"
   ]
  },
  {
   "cell_type": "code",
   "execution_count": null,
   "metadata": {},
   "outputs": [],
   "source": [
    "plt.figure(figsize=(20, 8))\n",
    "cpu_mean1 = d1_mean['CPU_Load']\n",
    "cpu_max1 = d1_max['CPU_Load']\n",
    "cpu_min1 = d1_min['CPU_Load']\n",
    "plt.xlabel( r\"$\\ Time $\", fontsize=24)\n",
    "plt.ylabel(r\"$\\ CPU (\\%) $\", fontsize=24)\n",
    "plt.plot(cpu_mean1,label='mean', lw=2)\n",
    "plt.plot(cpu_max1,label='max', lw=2)\n",
    "plt.plot(cpu_min1,label='min', lw=2)\n",
    "plt.legend(labels = ['mean','max','min'],fontsize=18,loc='upper right')\n",
    "plt.savefig(\"./plots/d1_d2/usage_time/cpu_load_time_d1.pdf\",format=\"pdf\", bbox_inches=\"tight\")"
   ]
  },
  {
   "cell_type": "code",
   "execution_count": null,
   "metadata": {},
   "outputs": [],
   "source": [
    "plt.figure(figsize=(20, 8))\n",
    "date_form = DateFormatter(\"%Y-%m\")\n",
    "plt.gca().xaxis.set_major_formatter(date_form) \n",
    "\n",
    "plt.gca().xaxis.set_major_locator(mdates.MonthLocator(interval=1))\n",
    "cpu_mean2 = d2_mean['CPU_Load']\n",
    "cpu_max2 = d2_max['CPU_Load']\n",
    "cpu_min2 = d2_min['CPU_Load']\n",
    "plt.xlabel( r\"$\\ Time $\", fontsize=24)\n",
    "plt.ylabel(r\"$\\ CPU $\", fontsize=24)\n",
    "plt.plot(cpu_mean2,label='mean', lw=2)\n",
    "plt.plot(cpu_max2,label='max', lw=2)\n",
    "plt.plot(cpu_min2,label='min', lw=2)\n",
    "plt.legend(labels = ['mean','max','min'],fontsize=18, loc= 'upper left')\n",
    "plt.savefig(\"./plots/d1_d2/usage_time/cpu_load_time_d2.pdf\",format=\"pdf\", bbox_inches=\"tight\")"
   ]
  },
  {
   "cell_type": "markdown",
   "metadata": {},
   "source": [
    "#### Ram Used"
   ]
  },
  {
   "cell_type": "code",
   "execution_count": null,
   "metadata": {},
   "outputs": [],
   "source": [
    "plt.figure(figsize=(20, 8))\n",
    "ram_mean1 = d1_mean['Ram_Used']\n",
    "ram_max1 = d1_max['Ram_Used']\n",
    "ram_min1 = d1_min['Ram_Used']\n",
    "plt.xlabel( r\"$\\ Time $\", fontsize=24)\n",
    "plt.ylabel(r\"$\\  R_x $\", fontsize=24)\n",
    "plt.plot(ram_mean1,label='mean', lw=2)\n",
    "plt.plot(ram_max1,label='max', lw=2)\n",
    "plt.plot(ram_min1,label='min', lw=2)\n",
    "plt.legend(labels = ['mean','max','min'],fontsize=18, loc= 'upper right')\n",
    "plt.savefig(\"./plots/d1_d2/usage_time/ram_used_time_d1.pdf\",format=\"pdf\", bbox_inches=\"tight\")"
   ]
  },
  {
   "cell_type": "code",
   "execution_count": null,
   "metadata": {},
   "outputs": [],
   "source": [
    "plt.figure(figsize=(20, 8))\n",
    "date_form = DateFormatter(\"%Y-%m\")\n",
    "plt.gca().xaxis.set_major_formatter(date_form) \n",
    "# show every 12th tick on x axes\n",
    "plt.gca().xaxis.set_major_locator(mdates.MonthLocator(interval=1))\n",
    "ram_mean2 = d2_mean['Ram_Used']\n",
    "ram_max2 = d2_max['Ram_Used']\n",
    "ram_min2 = d2_min['Ram_Used']\n",
    "plt.xlabel( r\"$\\ Time $\", fontsize=24)\n",
    "plt.ylabel(r\"$\\ R_x $\", fontsize=24)\n",
    "plt.plot(ram_mean2,label='mean', lw=2)\n",
    "plt.plot(ram_max2,label='max', lw=2)\n",
    "plt.plot(ram_min2,label='min', lw=2)\n",
    "plt.legend(labels = ['mean','max','min'],fontsize=18,loc='upper right')\n",
    "plt.yscale('log')\n",
    "plt.savefig(\"./plots/d1_d2/usage_time/ram_used_time_d2.pdf\",format=\"pdf\", bbox_inches=\"tight\")"
   ]
  },
  {
   "cell_type": "markdown",
   "metadata": {},
   "source": [
    "#### Temperature"
   ]
  },
  {
   "cell_type": "markdown",
   "metadata": {},
   "source": [
    "D1 CPU1"
   ]
  },
  {
   "cell_type": "code",
   "execution_count": null,
   "metadata": {},
   "outputs": [],
   "source": [
    "plt.figure(figsize=(20, 8))\n",
    "cpu1_temp_mean1 = d1_mean['CPU1_Temperature']\n",
    "cpu1_temp_max1 = d1_max['CPU1_Temperature']\n",
    "cpu1_temp_min1= d1_min['CPU1_Temperature']\n",
    "\n",
    "plt.xlabel( r\"$\\ Time $\", fontsize=24)\n",
    "plt.ylabel(r\"$\\ T_{CPU_1}(°C) $\", fontsize=24)\n",
    "plt.plot(cpu1_temp_mean1,label='mean', lw=2)\n",
    "plt.plot(cpu1_temp_max1,label='max', lw=2)\n",
    "plt.plot(cpu1_temp_min1,label='min, lw=2')\n",
    "plt.legend(labels = ['mean','max','min'],fontsize=18, loc= 'upper right')\n",
    "plt.savefig(\"./plots/d1_d2/usage_time/cpu1_temp1_time_d1.pdf\",format=\"pdf\", bbox_inches=\"tight\")"
   ]
  },
  {
   "cell_type": "markdown",
   "metadata": {},
   "source": [
    " D1   CPU2"
   ]
  },
  {
   "cell_type": "code",
   "execution_count": null,
   "metadata": {},
   "outputs": [],
   "source": [
    "plt.figure(figsize=(20, 8))\n",
    "cpu2_temp_mean1 = d1_mean['CPU2_Temperature']\n",
    "cpu2_temp_max1 = d1_max['CPU2_Temperature']\n",
    "cpu2_temp_min1= d1_min['CPU2_Temperature']\n",
    "\n",
    "plt.xlabel( r\"$\\ Time $\", fontsize=24)\n",
    "plt.ylabel(r\"$\\ T_{CPU_2}(°C) $\", fontsize=24)\n",
    "plt.plot(cpu2_temp_mean1,label='mean', lw=2)\n",
    "plt.plot(cpu2_temp_max1,label='max', lw=2)\n",
    "plt.plot(cpu2_temp_min1,label='min, lw=2')\n",
    "plt.legend(labels = ['mean','max','min'],fontsize=18, loc= 'upper right')\n",
    "plt.savefig(\"./plots/d1_d2/usage_time/cpu2_temp_time_d1.pdf\",format=\"pdf\", bbox_inches=\"tight\")"
   ]
  },
  {
   "cell_type": "markdown",
   "metadata": {},
   "source": [
    "D2 CPU1"
   ]
  },
  {
   "cell_type": "code",
   "execution_count": null,
   "metadata": {},
   "outputs": [],
   "source": [
    "plt.figure(figsize=(20, 8))\n",
    "cpu1_temp_mean2 = d2_mean['CPU1_Temperature']\n",
    "cpu1_temp_max2 = d2_max['CPU1_Temperature']\n",
    "cpu1_temp_min2= d2_min['CPU1_Temperature']\n",
    "\n",
    "plt.gca().xaxis.set_major_formatter(date_form) \n",
    "\n",
    "plt.gca().xaxis.set_major_locator(mdates.MonthLocator(interval=1))\n",
    "\n",
    "\n",
    "plt.xlabel( r\"$\\ Time $\", fontsize=24)\n",
    "plt.ylabel(r\"$\\ T_{CPU_1}(°C) $\", fontsize=24)\n",
    "plt.plot(cpu1_temp_mean2,label='mean', lw=2)\n",
    "plt.plot(cpu1_temp_max2,label='max', lw=2)\n",
    "plt.plot(cpu1_temp_min2,label='min', lw=2)\n",
    "plt.legend(labels = ['mean','max','min'],fontsize=18, loc= 'upper right')\n",
    "plt.savefig(\"./plots/d1_d2/usage_time/cpu1_temp1_time_d2.pdf\",format=\"pdf\", bbox_inches=\"tight\")"
   ]
  },
  {
   "cell_type": "markdown",
   "metadata": {},
   "source": [
    "# Corrleation Analysis\n"
   ]
  },
  {
   "cell_type": "code",
   "execution_count": null,
   "metadata": {},
   "outputs": [],
   "source": [
    "dataset1= d1[['CPU_Load', 'Power', 'Network_RX', 'Network_TX', 'Inlet_Temperature', 'CPU1_Temperature', 'CPU2_Temperature','Fan_speed1',\n",
    "                  'Fan_speed2', 'Fan_speed3', 'Fan_speed4', 'Ram', 'CPU_cores_used', 'Ram_Used',  'No_Of_Running_vms']]  # 'CPU_cores'\n",
    "dataset1.columns = ['CPU' ,  'Pc', 'Nrx', 'Ntx', 'Tinlet', 'Tcpu1', 'Tcpu2' , 'fs1' , 'fs2', 'fs3', 'fs4',   'R', 'Ncpux', 'Rx', 'Nvm'] ## Number of cores not included 'Ncpu'\n",
    "dataset1 = dataset1.dropna()\n"
   ]
  },
  {
   "cell_type": "code",
   "execution_count": null,
   "metadata": {},
   "outputs": [],
   "source": [
    "dataset2= d2[['CPU_Load', 'Power', 'Network_RX', 'Network_TX', 'CPU1_Temperature', 'CPU2_Temperature', 'Ram', 'CPU_cores_used', 'Ram_Used',  'No_Of_Running_vms']]  # 'CPU_cores'\n",
    "dataset2.columns = ['CPU' ,  'Pc', 'Nrx', 'Ntx', 'Tcpu1', 'Tcpu2',   'R', 'Ncpux', 'Rx', 'Nvm'] ## Number of cores capacity not included 'Ncpu'\n",
    "dataset2 = dataset2.dropna()\n"
   ]
  },
  {
   "cell_type": "code",
   "execution_count": null,
   "metadata": {},
   "outputs": [],
   "source": [
    "dataset1.corrwith\n",
    "dataset2.corrwith"
   ]
  },
  {
   "cell_type": "code",
   "execution_count": null,
   "metadata": {},
   "outputs": [],
   "source": [
    "import scipy.cluster.hierarchy as sch\n",
    "\n",
    "def plot_corr(df1, size, filename):\n",
    "    '''Plot a graphical correlation matrix for a dataframe.\n",
    "    Input:\n",
    "        cloud_data: pandas DataFrame\n",
    "        size: vertical and horizontal size of the plot'''\n",
    "\n",
    "     # Compute the correlation matrix for the received dataframe\n",
    "    co_relation = df1.corr()\n",
    "\n",
    "\n",
    "    fig = plt.figure(figsize= (8,6))\n",
    "    h = 8\n",
    "    w = 6\n",
    "    fig, ax = plt.subplots(figsize=(h, w))\n",
    "    cax = ax.matshow(co_relation, cmap='vlag', vmin=-1, vmax=1)#coolwarm\n",
    "    # vertical color bar\n",
    "    fig.colorbar(cax)\n",
    "    ticks = np.arange(0, len(df1.columns), 1)\n",
    "    ax.set_xticks(ticks)\n",
    "    plt.rcParams.update({'font.size': 18})\n",
    "    plt.xticks(fontsize=18,  rotation=90)\n",
    "    ax.set_yticks(ticks)\n",
    "    plt.yticks(fontsize=18)\n",
    "    ax.set_xticklabels(df1.columns)\n",
    "\n",
    "    ax.set_yticklabels(df1.columns)\n",
    "    plt.savefig(f\"./plots/d1_d2/corr/{filename}.pdf\", format=\"pdf\", bbox_inches=\"tight\")\n",
    "    plt.show()\n",
    "\n",
    "def two_pass_clustering_and_visualize(df, filename):\n",
    "    cluster_th = 4\n",
    "    \n",
    "    X = df.corr().values\n",
    "    d = sch.distance.pdist(X)\n",
    "    L = sch.linkage(d, method='complete')\n",
    "    ind = sch.fcluster(L, 0.5 * d.max(), 'distance')\n",
    "\n",
    "    columns = [df.columns.tolist()[i] for i in list(np.argsort(ind))]\n",
    "    df = df.reindex(columns, axis=1)\n",
    "\n",
    "    unique, counts = np.unique(ind, return_counts=True)\n",
    "    counts = dict(zip(unique, counts))\n",
    "\n",
    "    i = 0\n",
    "    j = 0\n",
    "    columns = []\n",
    "    for cluster_l1 in set(sorted(ind)):\n",
    "        j += counts[cluster_l1]\n",
    "        sub = df[df.columns.values[i:j]]\n",
    "        if counts[cluster_l1] > cluster_th:\n",
    "            X = sub.corr().values\n",
    "            d = sch.distance.pdist(X)\n",
    "            L = sch.linkage(d, method='complete')\n",
    "            ind = sch.fcluster(L, 0.5 * d.max(), 'distance')\n",
    "            col = [sub.columns.tolist()[i] for i in list((np.argsort(ind)))]\n",
    "            sub = sub.reindex(col, axis=1)\n",
    "        cols = sub.columns.tolist()\n",
    "        columns.extend(cols)\n",
    "        i = j\n",
    "    df = df.reindex(columns, axis=1)\n",
    "\n",
    "    plot_corr(df, 18, filename)\n",
    "\n"
   ]
  },
  {
   "cell_type": "code",
   "execution_count": null,
   "metadata": {},
   "outputs": [],
   "source": [
    "two_pass_clustering_and_visualize(dataset1, filename=\"corr_d1_bar\")"
   ]
  },
  {
   "cell_type": "code",
   "execution_count": null,
   "metadata": {},
   "outputs": [],
   "source": [
    "two_pass_clustering_and_visualize(dataset2, filename= \"corr_d2_bar\")"
   ]
  }
 ],
 "metadata": {
  "kernelspec": {
   "display_name": "Python 3 (ipykernel)",
   "language": "python",
   "name": "python3"
  },
  "language_info": {
   "codemirror_mode": {
    "name": "ipython",
    "version": 3
   },
   "file_extension": ".py",
   "mimetype": "text/x-python",
   "name": "python",
   "nbconvert_exporter": "python",
   "pygments_lexer": "ipython3",
   "version": "3.13.2"
  }
 },
 "nbformat": 4,
 "nbformat_minor": 4
}
